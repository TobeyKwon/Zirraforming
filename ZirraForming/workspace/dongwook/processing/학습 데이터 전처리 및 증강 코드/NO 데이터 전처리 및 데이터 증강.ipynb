{
 "cells": [
  {
   "cell_type": "code",
   "execution_count": 91,
   "id": "6b0fe5f9",
   "metadata": {},
   "outputs": [],
   "source": [
    "import pandas as pd\n",
    "\n",
    "# 데이터 파일 읽어오는 방법\n",
    "NO = pd.read_csv('data/No.csv')"
   ]
  },
  {
   "cell_type": "code",
   "execution_count": 92,
   "id": "e2a04b57",
   "metadata": {},
   "outputs": [
    {
     "name": "stdout",
     "output_type": "stream",
     "text": [
      "      Year  Total including LUCF\n",
      "6030  1990          2.368970e+09\n",
      "6031  1991          2.356090e+09\n",
      "6032  1992          2.348920e+09\n",
      "6033  1993          2.332620e+09\n",
      "6034  1994          2.424100e+09\n",
      "6035  1995          2.479910e+09\n",
      "6036  1996          2.493520e+09\n",
      "6037  1997          2.480570e+09\n",
      "6038  1998          2.510940e+09\n",
      "6039  1999          2.498220e+09\n",
      "6040  2000          2.490420e+09\n",
      "6041  2001          2.512180e+09\n",
      "6042  2002          2.570020e+09\n",
      "6043  2003          2.604750e+09\n",
      "6044  2004          2.687850e+09\n",
      "6045  2005          2.701330e+09\n",
      "6046  2006          2.733120e+09\n",
      "6047  2007          2.802950e+09\n",
      "6048  2008          2.775360e+09\n",
      "6049  2009          2.769550e+09\n",
      "6050  2010          2.845370e+09\n",
      "6051  2011          2.914600e+09\n",
      "6052  2012          2.937790e+09\n",
      "6053  2013          2.918250e+09\n",
      "6054  2014          2.963010e+09\n",
      "6055  2015          2.995510e+09\n",
      "6056  2016          3.027260e+09\n",
      "6057  2017          3.087400e+09\n",
      "6058  2018          3.072530e+09\n",
      "6059  2019          3.096790e+09\n"
     ]
    }
   ],
   "source": [
    "NO = NO.loc[NO[\"Entity\"] == \"World\", ['Year', 'Total including LUCF']]\n",
    "print(NO)"
   ]
  },
  {
   "cell_type": "code",
   "execution_count": 93,
   "id": "c393bcd6",
   "metadata": {},
   "outputs": [
    {
     "name": "stdout",
     "output_type": "stream",
     "text": [
      "    Year            NO\n",
      "0   1990  2.368970e+09\n",
      "1   1991  2.356090e+09\n",
      "2   1992  2.348920e+09\n",
      "3   1993  2.332620e+09\n",
      "4   1994  2.424100e+09\n",
      "5   1995  2.479910e+09\n",
      "6   1996  2.493520e+09\n",
      "7   1997  2.480570e+09\n",
      "8   1998  2.510940e+09\n",
      "9   1999  2.498220e+09\n",
      "10  2000  2.490420e+09\n",
      "11  2001  2.512180e+09\n",
      "12  2002  2.570020e+09\n",
      "13  2003  2.604750e+09\n",
      "14  2004  2.687850e+09\n",
      "15  2005  2.701330e+09\n",
      "16  2006  2.733120e+09\n",
      "17  2007  2.802950e+09\n",
      "18  2008  2.775360e+09\n",
      "19  2009  2.769550e+09\n",
      "20  2010  2.845370e+09\n",
      "21  2011  2.914600e+09\n",
      "22  2012  2.937790e+09\n",
      "23  2013  2.918250e+09\n",
      "24  2014  2.963010e+09\n",
      "25  2015  2.995510e+09\n",
      "26  2016  3.027260e+09\n",
      "27  2017  3.087400e+09\n",
      "28  2018  3.072530e+09\n",
      "29  2019  3.096790e+09\n"
     ]
    }
   ],
   "source": [
    "# year을 index로 받기\n",
    "# NO.set_index('Year', drop=True, inplace=True)\n",
    "NO.reset_index(drop=True, inplace=True)\n",
    "\n",
    "# rename하기\n",
    "NO.rename(columns = {'Total including LUCF' : \"NO\"}, inplace=True)\n",
    "print(NO)"
   ]
  },
  {
   "cell_type": "code",
   "execution_count": 94,
   "id": "d5a7c55f",
   "metadata": {},
   "outputs": [
    {
     "data": {
      "text/plain": [
       "<Figure size 7000x500 with 0 Axes>"
      ]
     },
     "metadata": {},
     "output_type": "display_data"
    },
    {
     "data": {
      "image/png": "[encoded data removed]",
      "text/plain": [
       "<Figure size 640x480 with 1 Axes>"
      ]
     },
     "metadata": {},
     "output_type": "display_data"
    }
   ],
   "source": [
    "import matplotlib.pyplot as plt\n",
    "\n",
    "plt.figure(figsize = (70, 5))\n",
    "NO.plot()\n",
    "plt.show()"
   ]
  },
  {
   "cell_type": "code",
   "execution_count": 101,
   "id": "0d4dcbe7",
   "metadata": {},
   "outputs": [
    {
     "name": "stdout",
     "output_type": "stream",
     "text": [
      "32 32\n"
     ]
    }
   ],
   "source": [
    "# 데이터 머신러닝하기\n",
    "import pandas as pd\n",
    "import warnings\n",
    "warnings.filterwarnings('ignore')\n",
    "\n",
    "from sklearn.linear_model import LinearRegression\n",
    "\n",
    "x = NO[['Year']]\n",
    "y = NO['NO'].values\n",
    "print(len(x), len(y))\n"
   ]
  },
  {
   "cell_type": "code",
   "execution_count": 102,
   "id": "835e8ed3",
   "metadata": {},
   "outputs": [
    {
     "data": {
      "text/html": [
       "<style>#sk-container-id-5 {color: black;background-color: white;}#sk-container-id-5 pre{padding: 0;}#sk-container-id-5 div.sk-toggleable {background-color: white;}#sk-container-id-5 label.sk-toggleable__label {cursor: pointer;display: block;width: 100%;margin-bottom: 0;padding: 0.3em;box-sizing: border-box;text-align: center;}#sk-container-id-5 label.sk-toggleable__label-arrow:before {content: \"▸\";float: left;margin-right: 0.25em;color: #696969;}#sk-container-id-5 label.sk-toggleable__label-arrow:hover:before {color: black;}#sk-container-id-5 div.sk-estimator:hover label.sk-toggleable__label-arrow:before {color: black;}#sk-container-id-5 div.sk-toggleable__content {max-height: 0;max-width: 0;overflow: hidden;text-align: left;background-color: #f0f8ff;}#sk-container-id-5 div.sk-toggleable__content pre {margin: 0.2em;color: black;border-radius: 0.25em;background-color: #f0f8ff;}#sk-container-id-5 input.sk-toggleable__control:checked~div.sk-toggleable__content {max-height: 200px;max-width: 100%;overflow: auto;}#sk-container-id-5 input.sk-toggleable__control:checked~label.sk-toggleable__label-arrow:before {content: \"▾\";}#sk-container-id-5 div.sk-estimator input.sk-toggleable__control:checked~label.sk-toggleable__label {background-color: #d4ebff;}#sk-container-id-5 div.sk-label input.sk-toggleable__control:checked~label.sk-toggleable__label {background-color: #d4ebff;}#sk-container-id-5 input.sk-hidden--visually {border: 0;clip: rect(1px 1px 1px 1px);clip: rect(1px, 1px, 1px, 1px);height: 1px;margin: -1px;overflow: hidden;padding: 0;position: absolute;width: 1px;}#sk-container-id-5 div.sk-estimator {font-family: monospace;background-color: #f0f8ff;border: 1px dotted black;border-radius: 0.25em;box-sizing: border-box;margin-bottom: 0.5em;}#sk-container-id-5 div.sk-estimator:hover {background-color: #d4ebff;}#sk-container-id-5 div.sk-parallel-item::after {content: \"\";width: 100%;border-bottom: 1px solid gray;flex-grow: 1;}#sk-container-id-5 div.sk-label:hover label.sk-toggleable__label {background-color: #d4ebff;}#sk-container-id-5 div.sk-serial::before {content: \"\";position: absolute;border-left: 1px solid gray;box-sizing: border-box;top: 0;bottom: 0;left: 50%;z-index: 0;}#sk-container-id-5 div.sk-serial {display: flex;flex-direction: column;align-items: center;background-color: white;padding-right: 0.2em;padding-left: 0.2em;position: relative;}#sk-container-id-5 div.sk-item {position: relative;z-index: 1;}#sk-container-id-5 div.sk-parallel {display: flex;align-items: stretch;justify-content: center;background-color: white;position: relative;}#sk-container-id-5 div.sk-item::before, #sk-container-id-5 div.sk-parallel-item::before {content: \"\";position: absolute;border-left: 1px solid gray;box-sizing: border-box;top: 0;bottom: 0;left: 50%;z-index: -1;}#sk-container-id-5 div.sk-parallel-item {display: flex;flex-direction: column;z-index: 1;position: relative;background-color: white;}#sk-container-id-5 div.sk-parallel-item:first-child::after {align-self: flex-end;width: 50%;}#sk-container-id-5 div.sk-parallel-item:last-child::after {align-self: flex-start;width: 50%;}#sk-container-id-5 div.sk-parallel-item:only-child::after {width: 0;}#sk-container-id-5 div.sk-dashed-wrapped {border: 1px dashed gray;margin: 0 0.4em 0.5em 0.4em;box-sizing: border-box;padding-bottom: 0.4em;background-color: white;}#sk-container-id-5 div.sk-label label {font-family: monospace;font-weight: bold;display: inline-block;line-height: 1.2em;}#sk-container-id-5 div.sk-label-container {text-align: center;}#sk-container-id-5 div.sk-container {/* jupyter's `normalize.less` sets `[hidden] { display: none; }` but bootstrap.min.css set `[hidden] { display: none !important; }` so we also need the `!important` here to be able to override the default hidden behavior on the sphinx rendered scikit-learn.org. See: https://github.com/scikit-learn/scikit-learn/issues/21755 */display: inline-block !important;position: relative;}#sk-container-id-5 div.sk-text-repr-fallback {display: none;}</style><div id=\"sk-container-id-5\" class=\"sk-top-container\"><div class=\"sk-text-repr-fallback\"><pre>LinearRegression()</pre><b>In a Jupyter environment, please rerun this cell to show the HTML representation or trust the notebook. <br />On GitHub, the HTML representation is unable to render, please try loading this page with nbviewer.org.</b></div><div class=\"sk-container\" hidden><div class=\"sk-item\"><div class=\"sk-estimator sk-toggleable\"><input class=\"sk-toggleable__control sk-hidden--visually\" id=\"sk-estimator-id-5\" type=\"checkbox\" checked><label for=\"sk-estimator-id-5\" class=\"sk-toggleable__label sk-toggleable__label-arrow\">LinearRegression</label><div class=\"sk-toggleable__content\"><pre>LinearRegression()</pre></div></div></div></div></div>"
      ],
      "text/plain": [
       "LinearRegression()"
      ]
     },
     "execution_count": 102,
     "metadata": {},
     "output_type": "execute_result"
    }
   ],
   "source": [
    "lr = LinearRegression(fit_intercept=True)\n",
    "lr.fit(x,y)"
   ]
  },
  {
   "cell_type": "code",
   "execution_count": 103,
   "id": "465d8043",
   "metadata": {},
   "outputs": [
    {
     "name": "stdout",
     "output_type": "stream",
     "text": [
      "절편 : -53107357995.12119\n",
      "회귀 계수 : [27837709.16252435]\n"
     ]
    }
   ],
   "source": [
    "print('절편 :', lr.intercept_)\n",
    "print('회귀 계수 :', lr.coef_)\n"
   ]
  },
  {
   "cell_type": "code",
   "execution_count": 104,
   "id": "ce6dd433",
   "metadata": {},
   "outputs": [
    {
     "name": "stdout",
     "output_type": "stream",
     "text": [
      "[3180489931.5030365, 3208327640.665558, 3236165349.828087, 3264003058.990608, 3291840768.1531296, 3319678477.3156586, 3347516186.47818, 3375353895.640709, 3403191604.8032303, 3431029313.9657516, 3458867023.1282806, 3486704732.290802, 3514542441.453331, 3542380150.6158524, 3570217859.7783737, 3598055568.9409027, 3625893278.103424, 3653730987.2659454, 3681568696.4284744, 3709406405.590996, 3737244114.753525, 3765081823.916046, 3792919533.0785675, 3820757242.2410965, 3848594951.403618, 3876432660.566147, 3904270369.728668, 3932108078.8911896, 3959945788.0537186]\n"
     ]
    }
   ],
   "source": [
    "import numpy as np\n",
    "# 전년도 까지 데이터 확보\n",
    "X_test = np.array([[2020], [2021]])\n",
    "\n",
    "result = list(lr.predict(X_test))\n",
    "print(result)"
   ]
  },
  {
   "cell_type": "code",
   "execution_count": null,
   "id": "43975fe6",
   "metadata": {},
   "outputs": [],
   "source": [
    "import numpy as np\n",
    "\n",
    "\n",
    "# 2050년도 까지 데이터 확보\n",
    "X_test = np.array([[i] for i in range(2022, 2051)])\n",
    "result = list(lr.predict(X_test))\n",
    "print(result)"
   ]
  },
  {
   "cell_type": "code",
   "execution_count": 99,
   "id": "535be6fe",
   "metadata": {},
   "outputs": [],
   "source": [
    "for i in range(2022 - 2020):\n",
    "    NO.loc[len(NO)] = [int(X_test[i][0]), result[i]]"
   ]
  },
  {
   "cell_type": "code",
   "execution_count": 105,
   "id": "9e2c8c6b",
   "metadata": {},
   "outputs": [],
   "source": [
    "for i in range(2051-2022):\n",
    "    NO.loc[len(NO)] = [int(X_test[i][0]), result[i]]"
   ]
  },
  {
   "cell_type": "code",
   "execution_count": 106,
   "id": "da2824ca",
   "metadata": {},
   "outputs": [
    {
     "name": "stdout",
     "output_type": "stream",
     "text": [
      "      Year            NO\n",
      "0   1990.0  2.368970e+09\n",
      "1   1991.0  2.356090e+09\n",
      "2   1992.0  2.348920e+09\n",
      "3   1993.0  2.332620e+09\n",
      "4   1994.0  2.424100e+09\n",
      "..     ...           ...\n",
      "56  2046.0  3.848595e+09\n",
      "57  2047.0  3.876433e+09\n",
      "58  2048.0  3.904270e+09\n",
      "59  2049.0  3.932108e+09\n",
      "60  2050.0  3.959946e+09\n",
      "\n",
      "[61 rows x 2 columns]\n"
     ]
    }
   ],
   "source": [
    "print(NO)"
   ]
  },
  {
   "cell_type": "code",
   "execution_count": 73,
   "id": "3e223cbf",
   "metadata": {},
   "outputs": [],
   "source": [
    "NO.set_index('Year', drop=True, inplace=True)"
   ]
  },
  {
   "cell_type": "code",
   "execution_count": 107,
   "id": "3c6d9fa9",
   "metadata": {},
   "outputs": [],
   "source": [
    "NO.to_csv(\"NO_2050.csv\")"
   ]
  },
  {
   "cell_type": "code",
   "execution_count": null,
   "id": "e346750f",
   "metadata": {},
   "outputs": [],
   "source": []
  }
 ],
 "metadata": {
  "kernelspec": {
   "display_name": "Python 3 (ipykernel)",
   "language": "python",
   "name": "python3"
  },
  "language_info": {
   "codemirror_mode": {
    "name": "ipython",
    "version": 3
   },
   "file_extension": ".py",
   "mimetype": "text/x-python",
   "name": "python",
   "nbconvert_exporter": "python",
   "pygments_lexer": "ipython3",
   "version": "3.9.13"
  }
 },
 "nbformat": 4,
 "nbformat_minor": 5
}

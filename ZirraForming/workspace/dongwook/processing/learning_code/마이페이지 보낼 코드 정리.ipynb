{
 "cells": [
  {
   "cell_type": "code",
   "execution_count": 1,
   "id": "13e2744b",
   "metadata": {},
   "outputs": [
    {
     "data": {
      "text/html": [
       "<div>\n",
       "<style scoped>\n",
       "    .dataframe tbody tr th:only-of-type {\n",
       "        vertical-align: middle;\n",
       "    }\n",
       "\n",
       "    .dataframe tbody tr th {\n",
       "        vertical-align: top;\n",
       "    }\n",
       "\n",
       "    .dataframe thead th {\n",
       "        text-align: right;\n",
       "    }\n",
       "</style>\n",
       "<table border=\"1\" class=\"dataframe\">\n",
       "  <thead>\n",
       "    <tr style=\"text-align: right;\">\n",
       "      <th></th>\n",
       "      <th>Year</th>\n",
       "      <th>ice_mass</th>\n",
       "    </tr>\n",
       "  </thead>\n",
       "  <tbody>\n",
       "    <tr>\n",
       "      <th>0</th>\n",
       "      <td>2002</td>\n",
       "      <td>-21.324747</td>\n",
       "    </tr>\n",
       "    <tr>\n",
       "      <th>1</th>\n",
       "      <td>2003</td>\n",
       "      <td>-1279.794133</td>\n",
       "    </tr>\n",
       "    <tr>\n",
       "      <th>2</th>\n",
       "      <td>2004</td>\n",
       "      <td>-3051.890000</td>\n",
       "    </tr>\n",
       "    <tr>\n",
       "      <th>3</th>\n",
       "      <td>2005</td>\n",
       "      <td>-2652.560000</td>\n",
       "    </tr>\n",
       "    <tr>\n",
       "      <th>4</th>\n",
       "      <td>2006</td>\n",
       "      <td>-1466.810000</td>\n",
       "    </tr>\n",
       "    <tr>\n",
       "      <th>5</th>\n",
       "      <td>2007</td>\n",
       "      <td>-3703.260000</td>\n",
       "    </tr>\n",
       "    <tr>\n",
       "      <th>6</th>\n",
       "      <td>2008</td>\n",
       "      <td>-6949.170000</td>\n",
       "    </tr>\n",
       "    <tr>\n",
       "      <th>7</th>\n",
       "      <td>2009</td>\n",
       "      <td>-6667.040000</td>\n",
       "    </tr>\n",
       "    <tr>\n",
       "      <th>8</th>\n",
       "      <td>2010</td>\n",
       "      <td>-10004.980000</td>\n",
       "    </tr>\n",
       "    <tr>\n",
       "      <th>9</th>\n",
       "      <td>2011</td>\n",
       "      <td>-11559.231515</td>\n",
       "    </tr>\n",
       "    <tr>\n",
       "      <th>10</th>\n",
       "      <td>2012</td>\n",
       "      <td>-12234.639880</td>\n",
       "    </tr>\n",
       "    <tr>\n",
       "      <th>11</th>\n",
       "      <td>2013</td>\n",
       "      <td>-14811.794809</td>\n",
       "    </tr>\n",
       "    <tr>\n",
       "      <th>12</th>\n",
       "      <td>2014</td>\n",
       "      <td>-18959.604960</td>\n",
       "    </tr>\n",
       "    <tr>\n",
       "      <th>13</th>\n",
       "      <td>2015</td>\n",
       "      <td>-20542.374138</td>\n",
       "    </tr>\n",
       "    <tr>\n",
       "      <th>14</th>\n",
       "      <td>2016</td>\n",
       "      <td>-22314.250669</td>\n",
       "    </tr>\n",
       "    <tr>\n",
       "      <th>15</th>\n",
       "      <td>2017</td>\n",
       "      <td>-21230.432217</td>\n",
       "    </tr>\n",
       "    <tr>\n",
       "      <th>16</th>\n",
       "      <td>2018</td>\n",
       "      <td>-26172.807440</td>\n",
       "    </tr>\n",
       "    <tr>\n",
       "      <th>17</th>\n",
       "      <td>2019</td>\n",
       "      <td>-27026.760000</td>\n",
       "    </tr>\n",
       "    <tr>\n",
       "      <th>18</th>\n",
       "      <td>2020</td>\n",
       "      <td>-30222.060000</td>\n",
       "    </tr>\n",
       "    <tr>\n",
       "      <th>19</th>\n",
       "      <td>2021</td>\n",
       "      <td>-31953.360000</td>\n",
       "    </tr>\n",
       "  </tbody>\n",
       "</table>\n",
       "</div>"
      ],
      "text/plain": [
       "    Year      ice_mass\n",
       "0   2002    -21.324747\n",
       "1   2003  -1279.794133\n",
       "2   2004  -3051.890000\n",
       "3   2005  -2652.560000\n",
       "4   2006  -1466.810000\n",
       "5   2007  -3703.260000\n",
       "6   2008  -6949.170000\n",
       "7   2009  -6667.040000\n",
       "8   2010 -10004.980000\n",
       "9   2011 -11559.231515\n",
       "10  2012 -12234.639880\n",
       "11  2013 -14811.794809\n",
       "12  2014 -18959.604960\n",
       "13  2015 -20542.374138\n",
       "14  2016 -22314.250669\n",
       "15  2017 -21230.432217\n",
       "16  2018 -26172.807440\n",
       "17  2019 -27026.760000\n",
       "18  2020 -30222.060000\n",
       "19  2021 -31953.360000"
      ]
     },
     "execution_count": 1,
     "metadata": {},
     "output_type": "execute_result"
    }
   ],
   "source": [
    "# 필요 데이터 불러오기 및 출력하기\n",
    "# 전체로 보기 위해서 print 사용\n",
    "import pandas as pd\n",
    "\n",
    "co2 = pd.read_csv('../result/CO2.csv')\n",
    "no = pd.read_csv('../result/NO.csv')\n",
    "ch4 = pd.read_csv('../result/CH4.csv')\n",
    "Antartica_mass = pd.read_csv('../result/Antartica_mass.csv')\n",
    "temperature = pd.read_csv('../result/surface-temper.csv')\n",
    "Antartica_mass"
   ]
  },
  {
   "cell_type": "code",
   "execution_count": 2,
   "id": "5ffb9077",
   "metadata": {},
   "outputs": [
    {
     "data": {
      "text/plain": [
       "LinearRegression()"
      ]
     },
     "execution_count": 2,
     "metadata": {},
     "output_type": "execute_result"
    }
   ],
   "source": [
    "import warnings\n",
    "warnings.filterwarnings('ignore')\n",
    "from sklearn.linear_model import LinearRegression\n",
    "from sklearn.preprocessing import PolynomialFeatures\n",
    "import numpy as np\n",
    "\n",
    "\n",
    "#평활화는 우리가 사용할 data가 아니니 제외시키기\n",
    "temperature.drop(columns=['lowess'], inplace=True)\n",
    "\n",
    "# 연도 통일해서 맞추고 index도 맞춰주기\n",
    "temperature_result = temperature.loc[temperature.Year>=1990, :]\n",
    "temperature_result.reset_index(drop=True, inplace=True)\n",
    "\n",
    "co2_result = co2.loc[co2.Year >= 1990, :]\n",
    "co2_result.reset_index(drop=True, inplace=True)\n",
    "\n",
    "# co2, ch4, 데이터 연도 기준으로 합치기\n",
    "data = pd.merge(co2_result, no, on='Year')\n",
    "data = pd.merge(data, ch4, on='Year')\n",
    "\n",
    "# 마지막으로 종속 변수인 temperature_result 합치기\n",
    "data = pd.merge(data, temperature_result, on='Year')\n",
    "\n",
    "# 독립변수, 종속변수 데이터 넣어주기\n",
    "x = data[['CH4', 'NO', 'CO2']]\n",
    "y = data['temperature'].values\n",
    "\n",
    "# 다항 비선형 회귀 사용해서 예측하기\n",
    "poly_features = PolynomialFeatures(degree=2, include_bias=False)\n",
    "x_poly = poly_features.fit_transform(x)\n",
    "\n",
    "lin_reg_temperature = LinearRegression()\n",
    "lin_reg_temperature.fit(x_poly, y)"
   ]
  },
  {
   "cell_type": "code",
   "execution_count": 3,
   "id": "3ad6875c",
   "metadata": {},
   "outputs": [
    {
     "data": {
      "text/plain": [
       "LinearRegression()"
      ]
     },
     "execution_count": 3,
     "metadata": {},
     "output_type": "execute_result"
    }
   ],
   "source": [
    "from sklearn.linear_model import LinearRegression\n",
    "\n",
    "\n",
    "# 데이터 2002년도 이후로만 있어서 이 값들 통일하기\n",
    "co2 = co2.loc[co2.Year >= 2003,:]\n",
    "no = no.loc[no.Year >= 2003, :]\n",
    "ch4 = ch4.loc[ch4.Year >= 2003, :]\n",
    "\n",
    "co2.reset_index(drop=True, inplace=True)\n",
    "no.reset_index(drop=True, inplace=True)\n",
    "ch4.reset_index(drop=True, inplace=True)\n",
    "\n",
    "# 데이터 합치기\n",
    "data = pd.merge(co2, no, on='Year')\n",
    "data = pd.merge(data, ch4, on='Year')\n",
    "data = pd.merge(data, Antartica_mass, on='Year')\n",
    "\n",
    "# 데이터 X,Y 두기\n",
    "x = data[['CH4', 'NO', 'CO2']]\n",
    "y = data['ice_mass'].values\n",
    "\n",
    "# 선형회귀\n",
    "lin_reg_ice = LinearRegression(fit_intercept=True)\n",
    "lin_reg_ice.fit(x, y)"
   ]
  },
  {
   "cell_type": "code",
   "execution_count": 4,
   "id": "63e15253",
   "metadata": {},
   "outputs": [
    {
     "name": "stdout",
     "output_type": "stream",
     "text": [
      "      Year           CO2            NO           CH4  Temperature\n",
      "0   2020.0  3.179837e+10  3.124815e+09  8.536440e+09     0.816709\n",
      "1   2021.0  3.216606e+10  3.152652e+09  8.598050e+09     0.828582\n",
      "2   2022.0  3.253571e+10  3.180490e+09  8.659659e+09     0.840261\n",
      "3   2023.0  3.290734e+10  3.208328e+09  8.721268e+09     0.851766\n",
      "4   2024.0  3.328093e+10  3.236165e+09  8.782878e+09     0.863114\n",
      "5   2025.0  3.365649e+10  3.264003e+09  8.844487e+09     0.874325\n",
      "6   2026.0  3.403402e+10  3.291841e+09  8.906097e+09     0.885416\n",
      "7   2027.0  3.441352e+10  3.319678e+09  8.967706e+09     0.896405\n",
      "8   2028.0  3.479498e+10  3.347516e+09  9.029315e+09     0.907307\n",
      "9   2029.0  3.517841e+10  3.375354e+09  9.090925e+09     0.918141\n",
      "10  2030.0  3.556382e+10  3.403192e+09  9.152534e+09     0.928921\n",
      "      Year           CO2            NO           CH4  Temperature\n",
      "0   2020.0  3.179837e+10  3.124815e+09  8.536440e+09     0.818709\n",
      "1   2021.0  3.216606e+10  3.152652e+09  8.598050e+09     0.823582\n",
      "2   2022.0  3.253571e+10  3.180490e+09  8.659659e+09     0.836261\n",
      "3   2023.0  3.290734e+10  3.208328e+09  8.721268e+09     0.857766\n",
      "4   2024.0  3.328093e+10  3.236165e+09  8.782878e+09     0.860114\n",
      "5   2025.0  3.365649e+10  3.264003e+09  8.844487e+09     0.876325\n",
      "6   2026.0  3.403402e+10  3.291841e+09  8.906097e+09     0.889416\n",
      "7   2027.0  3.441352e+10  3.319678e+09  8.967706e+09     0.893405\n",
      "8   2028.0  3.479498e+10  3.347516e+09  9.029315e+09     0.902307\n",
      "9   2029.0  3.517841e+10  3.375354e+09  9.090925e+09     0.911141\n",
      "10  2030.0  3.556382e+10  3.403192e+09  9.152534e+09     0.930921\n"
     ]
    },
    {
     "data": {
      "text/plain": [
       "<AxesSubplot:>"
      ]
     },
     "execution_count": 4,
     "metadata": {},
     "output_type": "execute_result"
    },
    {
     "data": {
      "image/png": "[encoded data removed]",
      "text/plain": [
       "<Figure size 432x288 with 1 Axes>"
      ]
     },
     "metadata": {
      "needs_background": "light"
     },
     "output_type": "display_data"
    }
   ],
   "source": [
    "# 2050까지의 데이터 들고오기 \n",
    "co2_2050 = pd.read_csv('../result/2030/co2_2030.csv')\n",
    "CH4_2050 = pd.read_csv('../result/2030/CH4_2030.csv')\n",
    "NO_2050 = pd.read_csv('../result/2030/NO_2030.csv')\n",
    "\n",
    "\n",
    "co2_2050 = co2_2050.loc[co2_2050.Year >= 2020, :]\n",
    "co2_2050.reset_index(drop=True, inplace=True)\n",
    "CH4_2050 = CH4_2050.loc[CH4_2050.Year >= 2020, :]\n",
    "CH4_2050.reset_index(drop=True, inplace=True)\n",
    "NO_2050 = NO_2050.loc[NO_2050.Year >= 2020, :]\n",
    "NO_2050.reset_index(drop=True, inplace=True)\n",
    "\n",
    "data_2050 = pd.merge(co2_2050, NO_2050, on='Year')\n",
    "data_2050 = pd.merge(data_2050, CH4_2050, on='Year')\n",
    "\n",
    "x_future_data = data_2050[[  'CH4', 'NO', 'CO2']]\n",
    "x_future_data_poly = poly_features.fit_transform(x_future_data)\n",
    "result_2050 = list(lin_reg_temperature.predict(x_future_data_poly))\n",
    "data_2050['Temperature'] = result_2050\n",
    "print(data_2050)\n",
    "\n",
    "for i in range(len(data_2050)):\n",
    "    if i % 10 == 1:\n",
    "        data_2050.loc[i, 'Temperature'] = data_2050.loc[i, 'Temperature'] - 0.005\n",
    "    elif i % 10 == 2:\n",
    "        data_2050.loc[i, 'Temperature'] = data_2050.loc[i, 'Temperature'] - 0.004\n",
    "        \n",
    "    elif i% 10 == 3:\n",
    "        data_2050.loc[i, 'Temperature'] = data_2050.loc[i, 'Temperature'] + 0.006\n",
    "        \n",
    "    elif i% 10 == 4:\n",
    "        data_2050.loc[i, 'Temperature'] = data_2050.loc[i, 'Temperature'] - 0.003\n",
    "        \n",
    "    elif i% 10 == 5:\n",
    "        data_2050.loc[i, 'Temperature'] = data_2050.loc[i, 'Temperature'] + 0.002\n",
    "        \n",
    "    elif i% 10 == 6:\n",
    "        data_2050.loc[i, 'Temperature'] = data_2050.loc[i, 'Temperature'] + 0.004\n",
    "        \n",
    "    elif i% 10 == 7:\n",
    "        data_2050.loc[i, 'Temperature'] = data_2050.loc[i, 'Temperature'] - 0.003\n",
    "        \n",
    "    elif i% 10 == 8:\n",
    "        data_2050.loc[i, 'Temperature'] = data_2050.loc[i, 'Temperature'] - 0.005\n",
    "       \n",
    "    elif i% 10 == 9:\n",
    "        data_2050.loc[i, 'Temperature'] = data_2050.loc[i, 'Temperature'] - 0.007\n",
    "       \n",
    "    else:\n",
    "        data_2050.loc[i, 'Temperature'] = data_2050.loc[i, 'Temperature'] + 0.002\n",
    "print(data_2050)\n",
    "       \n",
    "data_2050.loc[:,'Temperature'].plot()"
   ]
  },
  {
   "cell_type": "code",
   "execution_count": 5,
   "id": "77ff0ae4",
   "metadata": {},
   "outputs": [
    {
     "name": "stdout",
     "output_type": "stream",
     "text": [
      "      Year           CO2            NO           CH4  Temperature  \\\n",
      "0   2020.0  3.179837e+10  3.124815e+09  8.536440e+09     0.818709   \n",
      "1   2021.0  3.216606e+10  3.152652e+09  8.598050e+09     0.823582   \n",
      "2   2022.0  3.253571e+10  3.180490e+09  8.659659e+09     0.836261   \n",
      "3   2023.0  3.290734e+10  3.208328e+09  8.721268e+09     0.857766   \n",
      "4   2024.0  3.328093e+10  3.236165e+09  8.782878e+09     0.860114   \n",
      "5   2025.0  3.365649e+10  3.264003e+09  8.844487e+09     0.876325   \n",
      "6   2026.0  3.403402e+10  3.291841e+09  8.906097e+09     0.889416   \n",
      "7   2027.0  3.441352e+10  3.319678e+09  8.967706e+09     0.893405   \n",
      "8   2028.0  3.479498e+10  3.347516e+09  9.029315e+09     0.902307   \n",
      "9   2029.0  3.517841e+10  3.375354e+09  9.090925e+09     0.911141   \n",
      "10  2030.0  3.556382e+10  3.403192e+09  9.152534e+09     0.930921   \n",
      "\n",
      "        ice_mass  \n",
      "0  -31021.364323  \n",
      "1  -33928.819774  \n",
      "2  -33334.416663  \n",
      "3  -37488.154992  \n",
      "4  -37640.034761  \n",
      "5  -39040.055969  \n",
      "6  -42438.218616  \n",
      "7  -44584.522702  \n",
      "8  -43978.968228  \n",
      "9  -46771.555194  \n",
      "10 -47512.283598  \n"
     ]
    },
    {
     "data": {
      "image/png": "[encoded data removed]",
      "text/plain": [
       "<Figure size 432x288 with 1 Axes>"
      ]
     },
     "metadata": {
      "needs_background": "light"
     },
     "output_type": "display_data"
    }
   ],
   "source": [
    "# # 2050까지의 데이터 들고오기 \n",
    "# co2_2050 = pd.read_csv('../result/2030/co2_2030.csv')\n",
    "# CH4_2050 = pd.read_csv('../result/2030/CH4_2030.csv')\n",
    "# NO_2050 = pd.read_csv('../result/2030/NO_2030.csv')\n",
    "\n",
    "# # 데이터 통일하기\n",
    "# co2_2050 = co2_2050.loc[co2_2050.Year >= 2020, :]\n",
    "# co2_2050.reset_index(drop=True, inplace=True)\n",
    "# CH4_2050 = CH4_2050.loc[CH4_2050.Year >= 2020, :]\n",
    "# CH4_2050.reset_index(drop=True, inplace=True)\n",
    "# NO_2050 = NO_2050.loc[NO_2050.Year >= 2020, :]\n",
    "# NO_2050.reset_index(drop=True, inplace=True)\n",
    "\n",
    "# data_2050 = pd.merge(co2_2050, NO_2050, on='Year')\n",
    "# data_2050 = pd.merge(data_2050, CH4_2050, on='Year')\n",
    "# x_future_data = data_2050[[  'CH4', 'NO', 'CO2']]\n",
    "\n",
    "\n",
    "result_2030 = list(lin_reg_ice.predict(x_future_data))\n",
    "data_2050['ice_mass'] = result_2030\n",
    "\n",
    "for i in range(len(data_2050)):\n",
    "    if i % 10 == 1:\n",
    "        data_2050.loc[i, 'ice_mass'] = data_2050.loc[i, 'ice_mass'] - 750\n",
    "    elif i% 10 == 2:\n",
    "        data_2050.loc[i, 'ice_mass'] = data_2050.loc[i, 'ice_mass'] + 1500\n",
    "    elif i% 10 == 3:\n",
    "        data_2050.loc[i, 'ice_mass'] = data_2050.loc[i, 'ice_mass'] - 1000\n",
    "    elif i% 10 == 4:\n",
    "        data_2050.loc[i, 'ice_mass'] = data_2050.loc[i, 'ice_mass'] + 500\n",
    "    elif i% 10 == 5:\n",
    "        data_2050.loc[i, 'ice_mass'] = data_2050.loc[i, 'ice_mass'] + 750\n",
    "    elif i% 10 == 6:\n",
    "        data_2050.loc[i, 'ice_mass'] = data_2050.loc[i, 'ice_mass'] - 1000\n",
    "    elif i% 10 == 7:\n",
    "        data_2050.loc[i, 'ice_mass'] = data_2050.loc[i, 'ice_mass'] - 1500\n",
    "    elif i% 10 == 8:\n",
    "        data_2050.loc[i, 'ice_mass'] = data_2050.loc[i, 'ice_mass'] + 750\n",
    "    elif i % 10 == 9:\n",
    "        data_2050.loc[i, 'ice_mass'] = data_2050.loc[i, 'ice_mass'] - 400\n",
    "    else:\n",
    "        data_2050.loc[i, 'ice_mass'] = data_2050.loc[i, 'ice_mass'] + 500\n",
    "        \n",
    "data_2050.loc[:, 'ice_mass'].plot()\n",
    "print(data_2050)"
   ]
  },
  {
   "cell_type": "code",
   "execution_count": 6,
   "id": "532b1a80",
   "metadata": {},
   "outputs": [],
   "source": [
    "data_2050.to_csv(\"2020_2030_data.csv\", index=False)"
   ]
  },
  {
   "cell_type": "code",
   "execution_count": 7,
   "id": "68e83674",
   "metadata": {},
   "outputs": [
    {
     "data": {
      "text/plain": [
       "['temperature_learning']"
      ]
     },
     "execution_count": 7,
     "metadata": {},
     "output_type": "execute_result"
    }
   ],
   "source": [
    "import joblib\n",
    "\n",
    "joblib.dump(lin_reg_temperature, 'temperature_learning')"
   ]
  },
  {
   "cell_type": "code",
   "execution_count": 8,
   "id": "821ce520",
   "metadata": {},
   "outputs": [
    {
     "data": {
      "text/plain": [
       "['ice_mass_learning']"
      ]
     },
     "execution_count": 8,
     "metadata": {},
     "output_type": "execute_result"
    }
   ],
   "source": [
    "\n",
    "joblib.dump(lin_reg_ice, 'ice_mass_learning')"
   ]
  },
  {
   "cell_type": "code",
   "execution_count": null,
   "id": "cdcab72e",
   "metadata": {},
   "outputs": [],
   "source": []
  }
 ],
 "metadata": {
  "kernelspec": {
   "display_name": "Python 3 (ipykernel)",
   "language": "python",
   "name": "python3"
  },
  "language_info": {
   "codemirror_mode": {
    "name": "ipython",
    "version": 3
   },
   "file_extension": ".py",
   "mimetype": "text/x-python",
   "name": "python",
   "nbconvert_exporter": "python",
   "pygments_lexer": "ipython3",
   "version": "3.9.12"
  }
 },
 "nbformat": 4,
 "nbformat_minor": 5
}

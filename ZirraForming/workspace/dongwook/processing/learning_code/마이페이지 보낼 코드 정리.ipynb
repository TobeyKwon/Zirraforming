{
 "cells": [
  {
   "cell_type": "code",
   "execution_count": 15,
   "id": "13e2744b",
   "metadata": {},
   "outputs": [],
   "source": [
    "# 필요 데이터 불러오기 및 출력하기\n",
    "# 전체로 보기 위해서 print 사용\n",
    "import pandas as pd\n",
    "\n",
    "co2 = pd.read_csv('../result/CO2.csv')\n",
    "no = pd.read_csv('../result/NO.csv')\n",
    "ch4 = pd.read_csv('../result/CH4.csv')\n",
    "Antartica_mass = pd.read_csv('../result/Antartica_mass.csv')\n",
    "temperature = pd.read_csv('../result/surface-temper.csv')"
   ]
  },
  {
   "cell_type": "code",
   "execution_count": 16,
   "id": "5ffb9077",
   "metadata": {},
   "outputs": [
    {
     "data": {
      "text/plain": [
       "LinearRegression()"
      ]
     },
     "execution_count": 16,
     "metadata": {},
     "output_type": "execute_result"
    }
   ],
   "source": [
    "import warnings\n",
    "warnings.filterwarnings('ignore')\n",
    "from sklearn.linear_model import LinearRegression\n",
    "from sklearn.preprocessing import PolynomialFeatures\n",
    "import numpy as np\n",
    "\n",
    "\n",
    "#평활화는 우리가 사용할 data가 아니니 제외시키기\n",
    "temperature.drop(columns=['lowess'], inplace=True)\n",
    "\n",
    "# 연도 통일해서 맞추고 index도 맞춰주기\n",
    "temperature_result = temperature.loc[temperature.Year>=1990, :]\n",
    "temperature_result.reset_index(drop=True, inplace=True)\n",
    "\n",
    "co2_result = co2.loc[co2.Year >= 1990, :]\n",
    "co2_result.reset_index(drop=True, inplace=True)\n",
    "\n",
    "# co2, ch4, 데이터 연도 기준으로 합치기\n",
    "data = pd.merge(co2_result, no, on='Year')\n",
    "data = pd.merge(data, ch4, on='Year')\n",
    "\n",
    "# 마지막으로 종속 변수인 temperature_result 합치기\n",
    "data = pd.merge(data, temperature_result, on='Year')\n",
    "\n",
    "# 독립변수, 종속변수 데이터 넣어주기\n",
    "x = data[['CH4', 'NO', 'CO2']]\n",
    "y = data['temperature'].values\n",
    "\n",
    "# 다항 비선형 회귀 사용해서 예측하기\n",
    "poly_features = PolynomialFeatures(degree=2, include_bias=False)\n",
    "x_poly = poly_features.fit_transform(x)\n",
    "\n",
    "lin_reg_temperature = LinearRegression()\n",
    "lin_reg_temperature.fit(x_poly, y)"
   ]
  },
  {
   "cell_type": "code",
   "execution_count": 17,
   "id": "3ad6875c",
   "metadata": {},
   "outputs": [
    {
     "data": {
      "text/plain": [
       "LinearRegression()"
      ]
     },
     "execution_count": 17,
     "metadata": {},
     "output_type": "execute_result"
    }
   ],
   "source": [
    "from sklearn.linear_model import LinearRegression\n",
    "\n",
    "\n",
    "# 데이터 2002년도 이후로만 있어서 이 값들 통일하기\n",
    "co2 = co2.loc[co2.Year >= 2002, :]\n",
    "no = no.loc[no.Year >= 2002, :]\n",
    "ch4 = ch4.loc[ch4.Year >= 2002, :]\n",
    "\n",
    "co2.reset_index(drop=True, inplace=True)\n",
    "no.reset_index(drop=True, inplace=True)\n",
    "ch4.reset_index(drop=True, inplace=True)\n",
    "\n",
    "# 데이터 합치기\n",
    "data = pd.merge(co2, no, on='Year')\n",
    "data = pd.merge(data, ch4, on='Year')\n",
    "data = pd.merge(data, Antartica_mass, on='Year')\n",
    "\n",
    "# 데이터 X,Y 두기\n",
    "x = data[['CO2', 'NO','CH4' ]]\n",
    "y = data['ice_mass'].values\n",
    "\n",
    "# 선형회귀\n",
    "lin_reg_ice = LinearRegression(fit_intercept=True)\n",
    "lin_reg_ice.fit(x, y)"
   ]
  },
  {
   "cell_type": "code",
   "execution_count": 18,
   "id": "63e15253",
   "metadata": {},
   "outputs": [
    {
     "name": "stdout",
     "output_type": "stream",
     "text": [
      "      Year           CO2            NO           CH4  Temperature\n",
      "0   2020.0  3.179837e+10  3.124815e+09  8.536440e+09     0.821205\n",
      "1   2021.0  3.216606e+10  3.152652e+09  8.598050e+09     0.833490\n",
      "2   2022.0  3.253571e+10  3.180490e+09  8.659659e+09     0.845583\n",
      "3   2023.0  3.290734e+10  3.208328e+09  8.721268e+09     0.857505\n",
      "4   2024.0  3.328093e+10  3.236165e+09  8.782878e+09     0.869273\n",
      "5   2025.0  3.365649e+10  3.264003e+09  8.844487e+09     0.880906\n",
      "6   2026.0  3.403402e+10  3.291841e+09  8.906097e+09     0.892421\n",
      "7   2027.0  3.441352e+10  3.319678e+09  8.967706e+09     0.903836\n",
      "8   2028.0  3.479498e+10  3.347516e+09  9.029315e+09     0.915168\n",
      "9   2029.0  3.517841e+10  3.375354e+09  9.090925e+09     0.926433\n",
      "10  2030.0  3.556382e+10  3.403192e+09  9.152534e+09     0.937647\n"
     ]
    },
    {
     "data": {
      "text/plain": [
       "<AxesSubplot:>"
      ]
     },
     "execution_count": 18,
     "metadata": {},
     "output_type": "execute_result"
    },
    {
     "data": {
      "image/png": "[encoded data removed]",
      "text/plain": [
       "<Figure size 432x288 with 1 Axes>"
      ]
     },
     "metadata": {
      "needs_background": "light"
     },
     "output_type": "display_data"
    }
   ],
   "source": [
    "# 2050까지의 데이터 들고오기 \n",
    "co2_2050 = pd.read_csv('../result/2030/co2_2030.csv')\n",
    "CH4_2050 = pd.read_csv('../result/2030/CH4_2030.csv')\n",
    "NO_2050 = pd.read_csv('../result/2030/NO_2030.csv')\n",
    "\n",
    "\n",
    "co2_2050 = co2_2050.loc[co2_2050.Year >= 2020, :]\n",
    "co2_2050.reset_index(drop=True, inplace=True)\n",
    "CH4_2050 = CH4_2050.loc[CH4_2050.Year >= 2020, :]\n",
    "CH4_2050.reset_index(drop=True, inplace=True)\n",
    "NO_2050 = NO_2050.loc[NO_2050.Year >= 2020, :]\n",
    "NO_2050.reset_index(drop=True, inplace=True)\n",
    "\n",
    "data_2050 = pd.merge(co2_2050, NO_2050, on='Year')\n",
    "data_2050 = pd.merge(data_2050, CH4_2050, on='Year')\n",
    "\n",
    "x_future_data = data_2050[[  'CH4', 'NO', 'CO2']]\n",
    "x_future_data_poly = poly_features.fit_transform(x_future_data)\n",
    "result_2050 = list(lin_reg_temperature.predict(x_future_data_poly))\n",
    "data_2050['Temperature'] = result_2050\n",
    "print(data_2050)\n",
    "\n",
    "for i in range(len(data_2050)):\n",
    "    if i % 10 == 1:\n",
    "        data_2050.loc[i, 'Temperature'] = data_2050.loc[i, 'Temperature'] - 0.005\n",
    "    elif i% 10 == 3:\n",
    "        data_2050.loc[i, 'Temperature'] = data_2050.loc[i, 'Temperature'] + 0.006\n",
    "    elif i% 10 == 4:\n",
    "        data_2050.loc[i, 'Temperature'] = data_2050.loc[i, 'Temperature'] - 0.003\n",
    "    elif i% 10 == 5:\n",
    "        data_2050.loc[i, 'Temperature'] = data_2050.loc[i, 'Temperature'] + 0.002\n",
    "    elif i% 10 == 6:\n",
    "        data_2050.loc[i, 'Temperature'] = data_2050.loc[i, 'Temperature'] + 0.004\n",
    "    elif i% 10 == 7:\n",
    "        data_2050.loc[i, 'Temperature'] = data_2050.loc[i, 'Temperature'] - 0.003\n",
    "    elif i% 10 == 8:\n",
    "        data_2050.loc[i, 'Temperature'] = data_2050.loc[i, 'Temperature'] - 0.005\n",
    "    elif i% 10 == 9:\n",
    "        data_2050.loc[i, 'Temperature'] = data_2050.loc[i, 'Temperature'] - 0.007\n",
    "    else:\n",
    "        data_2050.loc[i, 'Temperature'] = data_2050.loc[i, 'Temperature'] + 0.002\n",
    "data_2050.loc[:,'Temperature'].plot()"
   ]
  },
  {
   "cell_type": "code",
   "execution_count": 21,
   "id": "77ff0ae4",
   "metadata": {},
   "outputs": [
    {
     "name": "stdout",
     "output_type": "stream",
     "text": [
      "      Year           CO2            NO           CH4       ice_mass  \\\n",
      "0   2020.0  3.179837e+10  3.124815e+09  8.536440e+09 -297962.747015   \n",
      "1   2021.0  3.216606e+10  3.152652e+09  8.598050e+09 -305584.672122   \n",
      "2   2022.0  3.253571e+10  3.180490e+09  8.659659e+09 -308227.007204   \n",
      "3   2023.0  3.290734e+10  3.208328e+09  8.721268e+09 -311389.752262   \n",
      "4   2024.0  3.328093e+10  3.236165e+09  8.782878e+09 -321572.907295   \n",
      "5   2025.0  3.365649e+10  3.264003e+09  8.844487e+09 -323776.472303   \n",
      "6   2026.0  3.403402e+10  3.291841e+09  8.906097e+09 -328500.447286   \n",
      "7   2027.0  3.441352e+10  3.319678e+09  8.967706e+09 -337244.832245   \n",
      "8   2028.0  3.479498e+10  3.347516e+09  9.029315e+09 -343509.627179   \n",
      "9   2029.0  3.517841e+10  3.375354e+09  9.090925e+09 -344294.832089   \n",
      "10  2030.0  3.556382e+10  3.403192e+09  9.152534e+09 -350100.446973   \n",
      "\n",
      "    Temperature  \n",
      "0      0.821205  \n",
      "1      0.833490  \n",
      "2      0.845583  \n",
      "3      0.857505  \n",
      "4      0.869273  \n",
      "5      0.880906  \n",
      "6      0.892421  \n",
      "7      0.903836  \n",
      "8      0.915168  \n",
      "9      0.926433  \n",
      "10     0.937647  \n"
     ]
    },
    {
     "data": {
      "image/png": "[encoded data removed]",
      "text/plain": [
       "<Figure size 432x288 with 1 Axes>"
      ]
     },
     "metadata": {
      "needs_background": "light"
     },
     "output_type": "display_data"
    }
   ],
   "source": [
    "# 2050까지의 데이터 들고오기 \n",
    "co2_2050 = pd.read_csv('../result/2030/co2_2030.csv')\n",
    "CH4_2050 = pd.read_csv('../result/2030/CH4_2030.csv')\n",
    "NO_2050 = pd.read_csv('../result/2030/NO_2030.csv')\n",
    "\n",
    "# 데이터 통일하기\n",
    "co2_2050 = co2_2050.loc[co2_2050.Year >= 2020, :]\n",
    "co2_2050.reset_index(drop=True, inplace=True)\n",
    "CH4_2050 = CH4_2050.loc[CH4_2050.Year >= 2020, :]\n",
    "CH4_2050.reset_index(drop=True, inplace=True)\n",
    "NO_2050 = NO_2050.loc[NO_2050.Year >= 2020, :]\n",
    "NO_2050.reset_index(drop=True, inplace=True)\n",
    "\n",
    "data_2050 = pd.merge(co2_2050, NO_2050, on='Year')\n",
    "data_2050 = pd.merge(data_2050, CH4_2050, on='Year')\n",
    "x_future_data = data_2050[[  'CH4', 'NO', 'CO2']]\n",
    "\n",
    "result_2030 = list(lin_reg.predict(x_future_data))\n",
    "data_2050['ice_mass'] = result_2030\n",
    "\n",
    "for i in range(len(data_2050)):\n",
    "    if i % 10 == 1:\n",
    "        data_2050.loc[i, 'ice_mass'] = data_2050.loc[i, 'ice_mass'] - 1500\n",
    "    elif i% 10 == 3:\n",
    "        data_2050.loc[i, 'ice_mass'] = data_2050.loc[i, 'ice_mass'] + 3000\n",
    "    elif i% 10 == 4:\n",
    "        data_2050.loc[i, 'ice_mass'] = data_2050.loc[i, 'ice_mass'] - 2000\n",
    "    elif i% 10 == 5:\n",
    "        data_2050.loc[i, 'ice_mass'] = data_2050.loc[i, 'ice_mass'] + 1000\n",
    "    elif i% 10 == 6:\n",
    "        data_2050.loc[i, 'ice_mass'] = data_2050.loc[i, 'ice_mass'] + 1500\n",
    "    elif i% 10 == 7:\n",
    "        data_2050.loc[i, 'ice_mass'] = data_2050.loc[i, 'ice_mass'] - 2000\n",
    "    elif i% 10 == 8:\n",
    "        data_2050.loc[i, 'ice_mass'] = data_2050.loc[i, 'ice_mass'] - 3000\n",
    "    elif i% 10 == 9:\n",
    "        data_2050.loc[i, 'ice_mass'] = data_2050.loc[i, 'ice_mass'] + 1500\n",
    "    else:\n",
    "        data_2050.loc[i, 'ice_mass'] = data_2050.loc[i, 'ice_mass'] + 1000\n",
    "        \n",
    "data_2050.loc[:, 'ice_mass'].plot()\n",
    "data_2050['Temperature'] = result_2050\n",
    "print(data_2050)"
   ]
  },
  {
   "cell_type": "code",
   "execution_count": 22,
   "id": "532b1a80",
   "metadata": {},
   "outputs": [],
   "source": [
    "data_2050.to_csv(\"2020_2030_data\")"
   ]
  },
  {
   "cell_type": "code",
   "execution_count": null,
   "id": "68e83674",
   "metadata": {},
   "outputs": [],
   "source": []
  }
 ],
 "metadata": {
  "kernelspec": {
   "display_name": "Python 3 (ipykernel)",
   "language": "python",
   "name": "python3"
  },
  "language_info": {
   "codemirror_mode": {
    "name": "ipython",
    "version": 3
   },
   "file_extension": ".py",
   "mimetype": "text/x-python",
   "name": "python",
   "nbconvert_exporter": "python",
   "pygments_lexer": "ipython3",
   "version": "3.9.12"
  }
 },
 "nbformat": 4,
 "nbformat_minor": 5
}

{
 "cells": [
  {
   "cell_type": "code",
   "execution_count": 1,
   "id": "13e2744b",
   "metadata": {},
   "outputs": [
    {
     "name": "stdout",
     "output_type": "stream",
     "text": [
      "    Year      ice_mass\n",
      "0   2002    -21.324747\n",
      "1   2003  -1279.794133\n",
      "2   2004  -3051.890000\n",
      "3   2005  -2652.560000\n",
      "4   2006  -1466.810000\n",
      "5   2007  -3703.260000\n",
      "6   2008  -6949.170000\n",
      "7   2009  -6667.040000\n",
      "8   2010 -10004.980000\n",
      "9   2011 -11559.231515\n",
      "10  2012 -12234.639880\n",
      "11  2013 -14811.794809\n",
      "12  2014 -18959.604960\n",
      "13  2015 -20542.374138\n",
      "14  2016 -22314.250669\n",
      "15  2017 -21230.432217\n",
      "16  2018 -26172.807440\n",
      "17  2019 -27026.760000\n",
      "18  2020 -30222.060000\n",
      "19  2021 -31953.360000\n",
      "     Year  temperature  lowess\n",
      "0    1880        -0.17   -0.10\n",
      "1    1881        -0.09   -0.13\n",
      "2    1882        -0.11   -0.17\n",
      "3    1883        -0.18   -0.20\n",
      "4    1884        -0.28   -0.24\n",
      "..    ...          ...     ...\n",
      "137  2017         0.92    0.91\n",
      "138  2018         0.85    0.92\n",
      "139  2019         0.98    0.93\n",
      "140  2020         1.02    0.93\n",
      "141  2021         0.84    0.94\n",
      "\n",
      "[142 rows x 3 columns]\n"
     ]
    }
   ],
   "source": [
    "# 필요 데이터 불러오기 및 출력하기\n",
    "# 전체로 보기 위해서 print 사용\n",
    "import pandas as pd\n",
    "\n",
    "co2 = pd.read_csv('../result/CO2.csv')\n",
    "no = pd.read_csv('../result/NO.csv')\n",
    "ch4 = pd.read_csv('../result/CH4.csv')\n",
    "Antartica_mass = pd.read_csv('../result/Antartica_mass.csv')\n",
    "temperature = pd.read_csv('../result/surface-temper.csv')\n",
    "print(Antartica_mass)\n",
    "print(temperature)"
   ]
  },
  {
   "cell_type": "code",
   "execution_count": 2,
   "id": "5ffb9077",
   "metadata": {},
   "outputs": [],
   "source": [
    "import warnings\n",
    "warnings.filterwarnings('ignore')\n",
    "from sklearn.linear_model import LinearRegression\n",
    "from sklearn.preprocessing import PolynomialFeatures\n",
    "import numpy as np\n",
    "\n",
    "\n",
    "#평활화는 우리가 사용할 data가 아니니 제외시키기\n",
    "# temperature.drop(columns=['lowess'], inplace=True)\n",
    "temperature.drop(columns=['temperature'], inplace=True)\n",
    "\n",
    "# 연도 통일해서 맞추고 index도 맞춰주기\n",
    "temperature_result = temperature.loc[temperature.Year>=1990, :]\n",
    "temperature_result.reset_index(drop=True, inplace=True)\n",
    "\n",
    "co2_result = co2.loc[co2.Year >= 1990, :]\n",
    "co2_result.reset_index(drop=True, inplace=True)\n",
    "\n",
    "# co2, ch4, 데이터 연도 기준으로 합치기\n",
    "\n",
    "data = pd.merge(co2_result, no, on='Year')\n",
    "data = pd.merge(data, ch4, on='Year')\n",
    "\n",
    "# 마지막으로 종속 변수인 temperature_result 합치기\n",
    "data = pd.merge(data, temperature_result, on='Year')\n",
    "\n",
    "# 독립변수, 종속변수 데이터 넣어주기\n",
    "x = data[['CO2',  'NO', 'CH4']]\n",
    "y = data['lowess'].values\n",
    "# y = data['temperature'].values\n",
    "\n"
   ]
  },
  {
   "cell_type": "code",
   "execution_count": 3,
   "id": "5ceab140",
   "metadata": {},
   "outputs": [],
   "source": [
    "total_list = []\n"
   ]
  },
  {
   "cell_type": "code",
   "execution_count": 4,
   "id": "982040d9",
   "metadata": {},
   "outputs": [
    {
     "data": {
      "text/plain": [
       "LinearRegression()"
      ]
     },
     "execution_count": 4,
     "metadata": {},
     "output_type": "execute_result"
    }
   ],
   "source": [
    "# # 다항 비선형 회귀 사용해서 예측하기\n",
    "# poly_features = PolynomialFeatures(degree=2, include_bias=False)\n",
    "poly_features = PolynomialFeatures(degree=2)\n",
    "x_poly = poly_features.fit_transform(x)\n",
    "\n",
    "lin_reg_temperature = LinearRegression()\n",
    "lin_reg_temperature.fit(x_poly, y)\n",
    "# lin_reg_temperature.fit(x, y)"
   ]
  },
  {
   "cell_type": "code",
   "execution_count": 5,
   "id": "007370c4",
   "metadata": {},
   "outputs": [
    {
     "name": "stdout",
     "output_type": "stream",
     "text": [
      "      Year           CO2            NO           CH4  lowess\n",
      "13  2003.0  2.736672e+10  2.604750e+09  7.262510e+09    0.58\n",
      "14  2004.0  2.862753e+10  2.687850e+09  7.505180e+09    0.61\n",
      "15  2005.0  2.960278e+10  2.701330e+09  7.556280e+09    0.62\n",
      "16  2006.0  3.058353e+10  2.733120e+09  7.749950e+09    0.62\n",
      "17  2007.0  3.149374e+10  2.802950e+09  7.729960e+09    0.63\n",
      "18  2008.0  3.206944e+10  2.775360e+09  7.782220e+09    0.64\n",
      "19  2009.0  3.160704e+10  2.769550e+09  7.812910e+09    0.64\n",
      "20  2010.0  3.334330e+10  2.845370e+09  7.909880e+09    0.64\n",
      "21  2011.0  3.446845e+10  2.914600e+09  8.050430e+09    0.66\n",
      "22  2012.0  3.497408e+10  2.937790e+09  8.141110e+09    0.69\n",
      "23  2013.0  3.528303e+10  2.918250e+09  8.109300e+09    0.74\n",
      "24  2014.0  3.553444e+10  2.963010e+09  8.266810e+09    0.78\n",
      "25  2015.0  3.549641e+10  2.995510e+09  8.315910e+09    0.83\n",
      "26  2016.0  3.545246e+10  3.027260e+09  8.227180e+09    0.87\n",
      "27  2017.0  3.592574e+10  3.087400e+09  8.333400e+09    0.91\n",
      "28  2018.0  3.664614e+10  3.072530e+09  8.489970e+09    0.92\n",
      "29  2019.0  3.670250e+10  3.096790e+09  8.609920e+09    0.93\n",
      "30  2020.0  3.480726e+10  3.124815e+09  8.536440e+09    0.93\n",
      "31  2021.0  3.226598e+10  3.152652e+09  8.598050e+09    0.94\n"
     ]
    }
   ],
   "source": [
    "print(data.loc[data.Year >= 2003, :])"
   ]
  },
  {
   "cell_type": "code",
   "execution_count": 6,
   "id": "3ad6875c",
   "metadata": {},
   "outputs": [
    {
     "data": {
      "text/plain": [
       "LinearRegression()"
      ]
     },
     "execution_count": 6,
     "metadata": {},
     "output_type": "execute_result"
    }
   ],
   "source": [
    "from sklearn.linear_model import LinearRegression\n",
    "\n",
    "\n",
    "# 데이터 2002년도 이후로만 있어서 이 값들 통일하기\n",
    "# co2 = co2.loc[co2.Year >= 2003,:]\n",
    "# no = no.loc[no.Year >= 2003, :]\n",
    "# ch4 = ch4.loc[ch4.Year >= 2003, :]\n",
    "\n",
    "# co2.reset_index(drop=True, inplace=True)\n",
    "# no.reset_index(drop=True, inplace=True)\n",
    "# ch4.reset_index(drop=True, inplace=True)\n",
    "data = data.loc[data.Year >= 2003, :]\n",
    "data.reset_index(drop=True, inplace=True)\n",
    "\n",
    "# 데이터 합치기\n",
    "# data = pd.merge(co2, no, on='Year')\n",
    "# data = pd.merge(data, ch4, on='Year')\n",
    "data = pd.merge(data, Antartica_mass, on='Year')\n",
    "\n",
    "# 데이터 X,Y 두기\n",
    "# x = data[['CO2', 'NO', 'CH4']]\n",
    "x = data[['lowess']]\n",
    "y = data['ice_mass'].values\n",
    "\n",
    "\n",
    "# 선형회귀\n",
    "lin_reg_ice = LinearRegression()\n",
    "# lin_reg_ice.fit(x_poly, y)\n",
    "lin_reg_ice.fit(x, y)"
   ]
  },
  {
   "cell_type": "code",
   "execution_count": 7,
   "id": "63e15253",
   "metadata": {},
   "outputs": [
    {
     "name": "stdout",
     "output_type": "stream",
     "text": [
      "      Year           CO2            NO           CH4\n",
      "0   2020.0  3.179837e+10  3.124815e+09  8.536440e+09\n",
      "1   2021.0  3.216606e+10  3.152652e+09  8.598050e+09\n",
      "2   2022.0  3.253571e+10  3.180490e+09  8.659659e+09\n",
      "3   2023.0  3.290734e+10  3.208328e+09  8.721268e+09\n",
      "4   2024.0  3.328093e+10  3.236165e+09  8.782878e+09\n",
      "5   2025.0  3.365649e+10  3.264003e+09  8.844487e+09\n",
      "6   2026.0  3.403402e+10  3.291841e+09  8.906097e+09\n",
      "7   2027.0  3.441352e+10  3.319678e+09  8.967706e+09\n",
      "8   2028.0  3.479498e+10  3.347516e+09  9.029315e+09\n",
      "9   2029.0  3.517841e+10  3.375354e+09  9.090925e+09\n",
      "10  2030.0  3.556382e+10  3.403192e+09  9.152534e+09\n",
      "      Year           CO2            NO           CH4  Temperature\n",
      "0   2020.0  3.179837e+10  3.124815e+09  8.536440e+09     0.896894\n",
      "1   2021.0  3.216606e+10  3.152652e+09  8.598050e+09     0.925940\n",
      "2   2022.0  3.253571e+10  3.180490e+09  8.659659e+09     0.955577\n",
      "3   2023.0  3.290734e+10  3.208328e+09  8.721268e+09     0.985804\n",
      "4   2024.0  3.328093e+10  3.236165e+09  8.782878e+09     1.016618\n",
      "5   2025.0  3.365649e+10  3.264003e+09  8.844487e+09     1.048015\n",
      "6   2026.0  3.403402e+10  3.291841e+09  8.906097e+09     1.079994\n",
      "7   2027.0  3.441352e+10  3.319678e+09  8.967706e+09     1.112550\n",
      "8   2028.0  3.479498e+10  3.347516e+09  9.029315e+09     1.145681\n",
      "9   2029.0  3.517841e+10  3.375354e+09  9.090925e+09     1.179382\n",
      "10  2030.0  3.556382e+10  3.403192e+09  9.152534e+09     1.213651\n",
      "      Year           CO2            NO           CH4  Temperature  \\\n",
      "0   2020.0  3.179837e+10  3.124815e+09  8.536440e+09     0.898894   \n",
      "1   2021.0  3.216606e+10  3.152652e+09  8.598050e+09     0.920940   \n",
      "2   2022.0  3.253571e+10  3.180490e+09  8.659659e+09     0.951577   \n",
      "3   2023.0  3.290734e+10  3.208328e+09  8.721268e+09     0.991804   \n",
      "4   2024.0  3.328093e+10  3.236165e+09  8.782878e+09     1.013618   \n",
      "5   2025.0  3.365649e+10  3.264003e+09  8.844487e+09     1.050015   \n",
      "6   2026.0  3.403402e+10  3.291841e+09  8.906097e+09     1.083994   \n",
      "7   2027.0  3.441352e+10  3.319678e+09  8.967706e+09     1.109550   \n",
      "8   2028.0  3.479498e+10  3.347516e+09  9.029315e+09     1.140681   \n",
      "9   2029.0  3.517841e+10  3.375354e+09  9.090925e+09     1.172382   \n",
      "10  2030.0  3.556382e+10  3.403192e+09  9.152534e+09     1.215651   \n",
      "\n",
      "        ice_mass  \n",
      "0  -25580.427732  \n",
      "1  -27745.170221  \n",
      "2  -29954.014495  \n",
      "3  -32206.781154  \n",
      "4  -34503.276225  \n",
      "5  -36843.291162  \n",
      "6  -39226.602842  \n",
      "7  -41652.973570  \n",
      "8  -44122.151079  \n",
      "9  -46633.868524  \n",
      "10 -49187.844488  \n"
     ]
    },
    {
     "data": {
      "text/plain": [
       "<AxesSubplot:>"
      ]
     },
     "execution_count": 7,
     "metadata": {},
     "output_type": "execute_result"
    },
    {
     "data": {
      "image/png": "[encoded data removed]",
      "text/plain": [
       "<Figure size 432x288 with 1 Axes>"
      ]
     },
     "metadata": {
      "needs_background": "light"
     },
     "output_type": "display_data"
    }
   ],
   "source": [
    "# 2050까지의 데이터 들고오기 \n",
    "co2_2050 = pd.read_csv('../result/2030/co2_2030.csv')\n",
    "CH4_2050 = pd.read_csv('../result/2030/CH4_2030.csv')\n",
    "NO_2050 = pd.read_csv('../result/2030/NO_2030.csv')\n",
    "\n",
    "\n",
    "co2_2050 = co2_2050.loc[co2_2050.Year >= 2020, :]\n",
    "co2_2050.reset_index(drop=True, inplace=True)\n",
    "CH4_2050 = CH4_2050.loc[CH4_2050.Year >= 2020, :]\n",
    "CH4_2050.reset_index(drop=True, inplace=True)\n",
    "NO_2050 = NO_2050.loc[NO_2050.Year >= 2020, :]\n",
    "NO_2050.reset_index(drop=True, inplace=True)\n",
    "\n",
    "data_2050 = pd.merge(co2_2050, NO_2050, on='Year')\n",
    "data_2050 = pd.merge(data_2050, CH4_2050, on='Year')\n",
    "# data_2050.loc[len(data_2050)] = [2031, 3.179837e+8, 3.403192e+09, 9.152534e+09]\n",
    "print(data_2050)\n",
    "\n",
    "x_future_data = data_2050[['CO2', 'NO', 'CH4']]\n",
    "x_future_data_poly = poly_features.fit_transform(x_future_data)\n",
    "result_2050 = list(lin_reg_temperature.predict(x_future_data_poly))\n",
    "data_2050['Temperature'] = result_2050\n",
    "print(data_2050)\n",
    "\n",
    "x_future_data_ice = data_2050[['Temperature']]\n",
    "result_2030 = list(lin_reg_ice.predict(x_future_data_ice))\n",
    "data_2050['ice_mass'] = result_2030\n",
    "\n",
    "for i in range(len(data_2050)):\n",
    "    if i % 10 == 1:\n",
    "        data_2050.loc[i, 'Temperature'] = data_2050.loc[i, 'Temperature'] - 0.005\n",
    "    elif i % 10 == 2:\n",
    "        data_2050.loc[i, 'Temperature'] = data_2050.loc[i, 'Temperature'] - 0.004\n",
    "        \n",
    "    elif i% 10 == 3:\n",
    "        data_2050.loc[i, 'Temperature'] = data_2050.loc[i, 'Temperature'] + 0.006\n",
    "        \n",
    "    elif i% 10 == 4:\n",
    "        data_2050.loc[i, 'Temperature'] = data_2050.loc[i, 'Temperature'] - 0.003\n",
    "        \n",
    "    elif i% 10 == 5:\n",
    "        data_2050.loc[i, 'Temperature'] = data_2050.loc[i, 'Temperature'] + 0.002\n",
    "        \n",
    "    elif i% 10 == 6:\n",
    "        data_2050.loc[i, 'Temperature'] = data_2050.loc[i, 'Temperature'] + 0.004\n",
    "        \n",
    "    elif i% 10 == 7:\n",
    "        data_2050.loc[i, 'Temperature'] = data_2050.loc[i, 'Temperature'] - 0.003\n",
    "        \n",
    "    elif i% 10 == 8:\n",
    "        data_2050.loc[i, 'Temperature'] = data_2050.loc[i, 'Temperature'] - 0.005\n",
    "       \n",
    "    elif i% 10 == 9:\n",
    "        data_2050.loc[i, 'Temperature'] = data_2050.loc[i, 'Temperature'] - 0.007\n",
    "       \n",
    "    else:\n",
    "        data_2050.loc[i, 'Temperature'] = data_2050.loc[i, 'Temperature'] + 0.002\n",
    "print(data_2050)\n",
    "       \n",
    "data_2050.loc[:,'Temperature'].plot()"
   ]
  },
  {
   "cell_type": "code",
   "execution_count": 8,
   "id": "77ff0ae4",
   "metadata": {},
   "outputs": [
    {
     "name": "stdout",
     "output_type": "stream",
     "text": [
      "      Year           CO2            NO           CH4  Temperature  \\\n",
      "0   2020.0  3.179837e+10  3.124815e+09  8.536440e+09     0.898894   \n",
      "1   2021.0  3.216606e+10  3.152652e+09  8.598050e+09     0.920940   \n",
      "2   2022.0  3.253571e+10  3.180490e+09  8.659659e+09     0.951577   \n",
      "3   2023.0  3.290734e+10  3.208328e+09  8.721268e+09     0.991804   \n",
      "4   2024.0  3.328093e+10  3.236165e+09  8.782878e+09     1.013618   \n",
      "5   2025.0  3.365649e+10  3.264003e+09  8.844487e+09     1.050015   \n",
      "6   2026.0  3.403402e+10  3.291841e+09  8.906097e+09     1.083994   \n",
      "7   2027.0  3.441352e+10  3.319678e+09  8.967706e+09     1.109550   \n",
      "8   2028.0  3.479498e+10  3.347516e+09  9.029315e+09     1.140681   \n",
      "9   2029.0  3.517841e+10  3.375354e+09  9.090925e+09     1.172382   \n",
      "10  2030.0  3.556382e+10  3.403192e+09  9.152534e+09     1.215651   \n",
      "\n",
      "        ice_mass  \n",
      "0  -25330.427732  \n",
      "1  -28120.170221  \n",
      "2  -29204.014495  \n",
      "3  -32706.781154  \n",
      "4  -34253.276225  \n",
      "5  -36468.291162  \n",
      "6  -39726.602842  \n",
      "7  -42402.973570  \n",
      "8  -43747.151079  \n",
      "9  -46833.868524  \n",
      "10 -48937.844488  \n"
     ]
    }
   ],
   "source": [
    "# # 2050까지의 데이터 들고오기 \n",
    "# co2_2050 = pd.read_csv('../result/2030/co2_2030.csv')\n",
    "# CH4_2050 = pd.read_csv('../result/2030/CH4_2030.csv')\n",
    "# NO_2050 = pd.read_csv('../result/2030/NO_2030.csv')\n",
    "\n",
    "# # 데이터 통일하기\n",
    "# co2_2050 = co2_2050.loc[co2_2050.Year >= 2020, :]\n",
    "# co2_2050.reset_index(drop=True, inplace=True)\n",
    "# CH4_2050 = CH4_2050.loc[CH4_2050.Year >= 2020, :]\n",
    "# CH4_2050.reset_index(drop=True, inplace=True)\n",
    "# NO_2050 = NO_2050.loc[NO_2050.Year >= 2020, :]\n",
    "# NO_2050.reset_index(drop=True, inplace=True)\n",
    "\n",
    "# data_2050 = pd.merge(co2_2050, NO_2050, on='Year')\n",
    "# data_2050 = pd.merge(data_2050, CH4_2050, on='Year')\n",
    "# x_future_data = data_2050[[  'CH4', 'NO', 'CO2']]\n",
    "\n",
    "\n",
    "\n",
    "\n",
    "for i in range(len(data_2050)):\n",
    "    if i % 10 == 1:\n",
    "#         data_2030.loc[i, 'ice_mass'] = data_2030.loc[i, 'ice_mass'] - 1500\n",
    "        data_2050.loc[i, 'ice_mass'] = data_2050.loc[i, 'ice_mass'] - 375\n",
    "    elif i% 10 == 2:\n",
    "#         data_2030.loc[i, 'ice_mass'] = data_2030.loc[i, 'ice_mass'] + 3000\n",
    "        data_2050.loc[i, 'ice_mass'] = data_2050.loc[i, 'ice_mass'] + 750\n",
    "    elif i% 10 == 3:\n",
    "#         data_2030.loc[i, 'ice_mass'] = data_2030.loc[i, 'ice_mass'] - 2000\n",
    "        data_2050.loc[i, 'ice_mass'] = data_2050.loc[i, 'ice_mass'] - 500\n",
    "    elif i% 10 == 4:\n",
    "#         data_2030.loc[i, 'ice_mass'] = data_2030.loc[i, 'ice_mass'] + 1000\n",
    "        data_2050.loc[i, 'ice_mass'] = data_2050.loc[i, 'ice_mass'] + 250\n",
    "    elif i% 10 == 5:\n",
    "#         data_2030.loc[i, 'ice_mass'] = data_2030.loc[i, 'ice_mass'] + 1500\n",
    "        data_2050.loc[i, 'ice_mass'] = data_2050.loc[i, 'ice_mass'] + 375\n",
    "    elif i% 10 == 6:\n",
    "#         data_2030.loc[i, 'ice_mass'] = data_2030.loc[i, 'ice_mass'] - 2000\n",
    "        data_2050.loc[i, 'ice_mass'] = data_2050.loc[i, 'ice_mass'] - 500\n",
    "    elif i% 10 == 7:\n",
    "#         data_2030.loc[i, 'ice_mass'] = data_2030.loc[i, 'ice_mass'] - 3000\n",
    "        data_2050.loc[i, 'ice_mass'] = data_2050.loc[i, 'ice_mass'] - 750\n",
    "    elif i% 10 == 8:\n",
    "#         data_2030.loc[i, 'ice_mass'] = data_2030.loc[i, 'ice_mass'] + 1500\n",
    "        data_2050.loc[i, 'ice_mass'] = data_2050.loc[i, 'ice_mass'] + 375\n",
    "    elif i % 10 == 9:\n",
    "#         data_2030.loc[i, 'ice_mass'] = data_2030.loc[i, 'ice_mass'] - 800\n",
    "        data_2050.loc[i, 'ice_mass'] = data_2050.loc[i, 'ice_mass'] - 200\n",
    "    else:\n",
    "#         data_2030.loc[i, 'ice_mass'] = data_2030.loc[i, 'ice_mass'] + 1000\n",
    "        data_2050.loc[i, 'ice_mass'] = data_2050.loc[i, 'ice_mass'] + 250\n",
    "3\n",
    "print(data_2050)"
   ]
  },
  {
   "cell_type": "code",
   "execution_count": 9,
   "id": "532b1a80",
   "metadata": {},
   "outputs": [],
   "source": [
    "data_2050.to_csv(\"2020_2030_data.csv\", index=False)"
   ]
  },
  {
   "cell_type": "code",
   "execution_count": 10,
   "id": "68e83674",
   "metadata": {},
   "outputs": [
    {
     "data": {
      "text/plain": [
       "['temperature_learning']"
      ]
     },
     "execution_count": 10,
     "metadata": {},
     "output_type": "execute_result"
    }
   ],
   "source": [
    "import joblib\n",
    "\n",
    "joblib.dump(lin_reg_temperature, 'temperature_learning')"
   ]
  },
  {
   "cell_type": "code",
   "execution_count": 11,
   "id": "821ce520",
   "metadata": {},
   "outputs": [
    {
     "data": {
      "text/plain": [
       "['ice_mass_learning']"
      ]
     },
     "execution_count": 11,
     "metadata": {},
     "output_type": "execute_result"
    }
   ],
   "source": [
    "\n",
    "joblib.dump(lin_reg_ice, 'ice_mass_learning')"
   ]
  },
  {
   "cell_type": "code",
   "execution_count": null,
   "id": "cdcab72e",
   "metadata": {},
   "outputs": [],
   "source": []
  },
  {
   "cell_type": "code",
   "execution_count": null,
   "id": "ece9a7a5",
   "metadata": {},
   "outputs": [],
   "source": []
  }
 ],
 "metadata": {
  "kernelspec": {
   "display_name": "Python 3 (ipykernel)",
   "language": "python",
   "name": "python3"
  },
  "language_info": {
   "codemirror_mode": {
    "name": "ipython",
    "version": 3
   },
   "file_extension": ".py",
   "mimetype": "text/x-python",
   "name": "python",
   "nbconvert_exporter": "python",
   "pygments_lexer": "ipython3",
   "version": "3.9.12"
  }
 },
 "nbformat": 4,
 "nbformat_minor": 5
}

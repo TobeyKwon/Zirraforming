{
 "cells": [
  {
   "cell_type": "markdown",
   "id": "a54e745f",
   "metadata": {},
   "source": [
    "# 나사 표면온도 데이터를 DB에 저장하기 위해서 전처리하는 코드 "
   ]
  },
  {
   "cell_type": "code",
   "execution_count": null,
   "id": "94794257",
   "metadata": {},
   "outputs": [],
   "source": [
    "import pandas as pd\n",
    "\n",
    "# 데이터 파일 읽어오는 방법\n",
    "df = pd.read_table('./data/graph.txt', sep='    ', header=None, names = ['year', 'temperature', 'lowess'])\n",
    "# 쓸모없는 행 삭제하기\n",
    "df_remove_data = df.drop(range(0,4),axis=0)\n",
    "# index 정열한 후에 index colunm 삭제하기\n",
    "df_result = df_remove_data.reset_index().drop('index', axis=1)\n",
    "# 데이터를 csv 파일로 만들기\n",
    "df_result.to_csv('surface-temper', index=False)"
   ]
  }
 ],
 "metadata": {
  "kernelspec": {
   "display_name": "Python 3 (ipykernel)",
   "language": "python",
   "name": "python3"
  },
  "language_info": {
   "codemirror_mode": {
    "name": "ipython",
    "version": 3
   },
   "file_extension": ".py",
   "mimetype": "text/x-python",
   "name": "python",
   "nbconvert_exporter": "python",
   "pygments_lexer": "ipython3",
   "version": "3.9.12"
  }
 },
 "nbformat": 4,
 "nbformat_minor": 5
}

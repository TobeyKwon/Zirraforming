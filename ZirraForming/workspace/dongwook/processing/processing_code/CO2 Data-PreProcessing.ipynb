{
 "cells": [
  {
   "cell_type": "markdown",
   "id": "1d1ee731",
   "metadata": {},
   "source": [
    "# 나사 이산화탄소 데이터를 DB에 저장하기 위해서 전처리하는 코드"
   ]
  },
  {
   "cell_type": "code",
   "execution_count": 96,
   "id": "146d7312",
   "metadata": {},
   "outputs": [],
   "source": [
    "import pandas as pd\n",
    "\n",
    "# 데이터 파일 읽어오는 방법\n",
    "df = pd.read_table('./data/co2_mm_mlo.txt', sep='\\s+', header=None, names = ['year', 'month', 'decimaldate', 'average', 'co2', 'days', 'st', 'un'])\n",
    "# 필요없는 행 삭제하기\n",
    "df_remove = df.drop(range(0,2), axis=0)\n",
    "# 인덱스 갱신과 필요없는 열 삭제하기\n",
    "df_result = df_remove.reset_index().drop(['index', 'decimaldate', 'average', 'days', 'st', 'un'], axis=1)\n",
    "# 데이터를 csv 파일로 만들기\n",
    "df_result.to_csv('co2', index=False)"
   ]
  }
 ],
 "metadata": {
  "kernelspec": {
   "display_name": "Python 3 (ipykernel)",
   "language": "python",
   "name": "python3"
  },
  "language_info": {
   "codemirror_mode": {
    "name": "ipython",
    "version": 3
   },
   "file_extension": ".py",
   "mimetype": "text/x-python",
   "name": "python",
   "nbconvert_exporter": "python",
   "pygments_lexer": "ipython3",
   "version": "3.9.12"
  }
 },
 "nbformat": 4,
 "nbformat_minor": 5
}

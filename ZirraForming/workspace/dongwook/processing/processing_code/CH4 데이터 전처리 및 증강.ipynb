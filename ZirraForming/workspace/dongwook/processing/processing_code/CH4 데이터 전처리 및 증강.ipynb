{
 "cells": [
  {
   "cell_type": "code",
   "execution_count": 71,
   "id": "0fc0e129",
   "metadata": {},
   "outputs": [
    {
     "data": {
      "text/html": [
       "<div>\n",
       "<style scoped>\n",
       "    .dataframe tbody tr th:only-of-type {\n",
       "        vertical-align: middle;\n",
       "    }\n",
       "\n",
       "    .dataframe tbody tr th {\n",
       "        vertical-align: top;\n",
       "    }\n",
       "\n",
       "    .dataframe thead th {\n",
       "        text-align: right;\n",
       "    }\n",
       "</style>\n",
       "<table border=\"1\" class=\"dataframe\">\n",
       "  <thead>\n",
       "    <tr style=\"text-align: right;\">\n",
       "      <th></th>\n",
       "      <th>Entity</th>\n",
       "      <th>Code</th>\n",
       "      <th>Year</th>\n",
       "      <th>Total including LUCF</th>\n",
       "    </tr>\n",
       "  </thead>\n",
       "  <tbody>\n",
       "    <tr>\n",
       "      <th>0</th>\n",
       "      <td>Afghanistan</td>\n",
       "      <td>AFG</td>\n",
       "      <td>1990</td>\n",
       "      <td>6.740000e+06</td>\n",
       "    </tr>\n",
       "    <tr>\n",
       "      <th>1</th>\n",
       "      <td>Afghanistan</td>\n",
       "      <td>AFG</td>\n",
       "      <td>1991</td>\n",
       "      <td>7.020000e+06</td>\n",
       "    </tr>\n",
       "    <tr>\n",
       "      <th>2</th>\n",
       "      <td>Afghanistan</td>\n",
       "      <td>AFG</td>\n",
       "      <td>1992</td>\n",
       "      <td>7.130000e+06</td>\n",
       "    </tr>\n",
       "    <tr>\n",
       "      <th>3</th>\n",
       "      <td>Afghanistan</td>\n",
       "      <td>AFG</td>\n",
       "      <td>1993</td>\n",
       "      <td>7.210000e+06</td>\n",
       "    </tr>\n",
       "    <tr>\n",
       "      <th>4</th>\n",
       "      <td>Afghanistan</td>\n",
       "      <td>AFG</td>\n",
       "      <td>1994</td>\n",
       "      <td>7.470000e+06</td>\n",
       "    </tr>\n",
       "  </tbody>\n",
       "</table>\n",
       "</div>"
      ],
      "text/plain": [
       "        Entity Code  Year  Total including LUCF\n",
       "0  Afghanistan  AFG  1990          6.740000e+06\n",
       "1  Afghanistan  AFG  1991          7.020000e+06\n",
       "2  Afghanistan  AFG  1992          7.130000e+06\n",
       "3  Afghanistan  AFG  1993          7.210000e+06\n",
       "4  Afghanistan  AFG  1994          7.470000e+06"
      ]
     },
     "execution_count": 71,
     "metadata": {},
     "output_type": "execute_result"
    }
   ],
   "source": [
    "import pandas as pd\n",
    "\n",
    "# 데이터 읽어오기\n",
    "CH4 = pd.read_csv('data/ch4.csv')\n",
    "CH4.head()"
   ]
  },
  {
   "cell_type": "code",
   "execution_count": 72,
   "id": "ffb90ce6",
   "metadata": {},
   "outputs": [
    {
     "data": {
      "text/html": [
       "<div>\n",
       "<style scoped>\n",
       "    .dataframe tbody tr th:only-of-type {\n",
       "        vertical-align: middle;\n",
       "    }\n",
       "\n",
       "    .dataframe tbody tr th {\n",
       "        vertical-align: top;\n",
       "    }\n",
       "\n",
       "    .dataframe thead th {\n",
       "        text-align: right;\n",
       "    }\n",
       "</style>\n",
       "<table border=\"1\" class=\"dataframe\">\n",
       "  <thead>\n",
       "    <tr style=\"text-align: right;\">\n",
       "      <th></th>\n",
       "      <th>Year</th>\n",
       "      <th>Total including LUCF</th>\n",
       "    </tr>\n",
       "  </thead>\n",
       "  <tbody>\n",
       "    <tr>\n",
       "      <th>6030</th>\n",
       "      <td>1990</td>\n",
       "      <td>6.909030e+09</td>\n",
       "    </tr>\n",
       "    <tr>\n",
       "      <th>6031</th>\n",
       "      <td>1991</td>\n",
       "      <td>6.918610e+09</td>\n",
       "    </tr>\n",
       "    <tr>\n",
       "      <th>6032</th>\n",
       "      <td>1992</td>\n",
       "      <td>6.895230e+09</td>\n",
       "    </tr>\n",
       "    <tr>\n",
       "      <th>6033</th>\n",
       "      <td>1993</td>\n",
       "      <td>6.914180e+09</td>\n",
       "    </tr>\n",
       "    <tr>\n",
       "      <th>6034</th>\n",
       "      <td>1994</td>\n",
       "      <td>6.958840e+09</td>\n",
       "    </tr>\n",
       "  </tbody>\n",
       "</table>\n",
       "</div>"
      ],
      "text/plain": [
       "      Year  Total including LUCF\n",
       "6030  1990          6.909030e+09\n",
       "6031  1991          6.918610e+09\n",
       "6032  1992          6.895230e+09\n",
       "6033  1993          6.914180e+09\n",
       "6034  1994          6.958840e+09"
      ]
     },
     "execution_count": 72,
     "metadata": {},
     "output_type": "execute_result"
    }
   ],
   "source": [
    "# 필요한 데이터만 받기\n",
    "CH4 = CH4.loc[CH4['Entity'] == 'World', ['Year', 'Total including LUCF']]\n",
    "CH4.head()"
   ]
  },
  {
   "cell_type": "code",
   "execution_count": 73,
   "id": "60e95388",
   "metadata": {},
   "outputs": [],
   "source": [
    "# 데이터 리네임\n",
    "CH4.rename(columns = {'Total including LUCF' : 'CH4'}, inplace=True)\n",
    "# index reset\n",
    "CH4.reset_index(drop=True, inplace=True)\n"
   ]
  },
  {
   "cell_type": "code",
   "execution_count": 74,
   "id": "1a8492e9",
   "metadata": {},
   "outputs": [
    {
     "data": {
      "text/plain": [
       "<Figure size 7000x500 with 0 Axes>"
      ]
     },
     "metadata": {},
     "output_type": "display_data"
    },
    {
     "data": {
      "image/png": "[encoded data removed]",
      "text/plain": [
       "<Figure size 640x480 with 1 Axes>"
      ]
     },
     "metadata": {},
     "output_type": "display_data"
    }
   ],
   "source": [
    "import matplotlib.pyplot as plt\n",
    "\n",
    "plt.figure(figsize=(70,5))\n",
    "CH4.plot()\n",
    "plt.show()"
   ]
  },
  {
   "cell_type": "code",
   "execution_count": 75,
   "id": "01a160f5",
   "metadata": {},
   "outputs": [],
   "source": [
    "import warnings\n",
    "warnings.filterwarnings('ignore')\n",
    "\n",
    "from sklearn.linear_model import LinearRegression\n",
    "\n",
    "x = CH4[['Year']]\n",
    "y = CH4['CH4'].values\n",
    "\n"
   ]
  },
  {
   "cell_type": "code",
   "execution_count": 76,
   "id": "b78e0881",
   "metadata": {},
   "outputs": [
    {
     "name": "stdout",
     "output_type": "stream",
     "text": [
      "    Year\n",
      "0   1990\n",
      "1   1991\n",
      "2   1992\n",
      "3   1993\n",
      "4   1994\n",
      "5   1995\n",
      "6   1996\n",
      "7   1997\n",
      "8   1998\n",
      "9   1999\n",
      "10  2000\n",
      "11  2001\n",
      "12  2002\n",
      "13  2003\n",
      "14  2004\n",
      "15  2005\n",
      "16  2006\n",
      "17  2007\n",
      "18  2008\n",
      "19  2009\n",
      "20  2010\n",
      "21  2011\n",
      "22  2012\n",
      "23  2013\n",
      "24  2014\n",
      "25  2015\n",
      "26  2016\n",
      "27  2017\n",
      "28  2018\n",
      "29  2019 [6.90902979e+09 6.91860986e+09 6.89522998e+09 6.91418018e+09\n",
      " 6.95883984e+09 7.03208984e+09 7.03710986e+09 7.26860010e+09\n",
      " 7.15987012e+09 7.11204004e+09 7.12400000e+09 7.06272021e+09\n",
      " 7.19960010e+09 7.26250977e+09 7.50518018e+09 7.55627979e+09\n",
      " 7.74995020e+09 7.72995996e+09 7.78222021e+09 7.81291016e+09\n",
      " 7.90987988e+09 8.05043018e+09 8.14110986e+09 8.10929980e+09\n",
      " 8.26680957e+09 8.31591016e+09 8.22717969e+09 8.33340039e+09\n",
      " 8.48996973e+09 8.60991992e+09]\n"
     ]
    }
   ],
   "source": [
    "print(x, y)"
   ]
  },
  {
   "cell_type": "code",
   "execution_count": 77,
   "id": "7d09f37f",
   "metadata": {},
   "outputs": [
    {
     "data": {
      "text/html": [
       "<style>#sk-container-id-7 {color: black;background-color: white;}#sk-container-id-7 pre{padding: 0;}#sk-container-id-7 div.sk-toggleable {background-color: white;}#sk-container-id-7 label.sk-toggleable__label {cursor: pointer;display: block;width: 100%;margin-bottom: 0;padding: 0.3em;box-sizing: border-box;text-align: center;}#sk-container-id-7 label.sk-toggleable__label-arrow:before {content: \"▸\";float: left;margin-right: 0.25em;color: #696969;}#sk-container-id-7 label.sk-toggleable__label-arrow:hover:before {color: black;}#sk-container-id-7 div.sk-estimator:hover label.sk-toggleable__label-arrow:before {color: black;}#sk-container-id-7 div.sk-toggleable__content {max-height: 0;max-width: 0;overflow: hidden;text-align: left;background-color: #f0f8ff;}#sk-container-id-7 div.sk-toggleable__content pre {margin: 0.2em;color: black;border-radius: 0.25em;background-color: #f0f8ff;}#sk-container-id-7 input.sk-toggleable__control:checked~div.sk-toggleable__content {max-height: 200px;max-width: 100%;overflow: auto;}#sk-container-id-7 input.sk-toggleable__control:checked~label.sk-toggleable__label-arrow:before {content: \"▾\";}#sk-container-id-7 div.sk-estimator input.sk-toggleable__control:checked~label.sk-toggleable__label {background-color: #d4ebff;}#sk-container-id-7 div.sk-label input.sk-toggleable__control:checked~label.sk-toggleable__label {background-color: #d4ebff;}#sk-container-id-7 input.sk-hidden--visually {border: 0;clip: rect(1px 1px 1px 1px);clip: rect(1px, 1px, 1px, 1px);height: 1px;margin: -1px;overflow: hidden;padding: 0;position: absolute;width: 1px;}#sk-container-id-7 div.sk-estimator {font-family: monospace;background-color: #f0f8ff;border: 1px dotted black;border-radius: 0.25em;box-sizing: border-box;margin-bottom: 0.5em;}#sk-container-id-7 div.sk-estimator:hover {background-color: #d4ebff;}#sk-container-id-7 div.sk-parallel-item::after {content: \"\";width: 100%;border-bottom: 1px solid gray;flex-grow: 1;}#sk-container-id-7 div.sk-label:hover label.sk-toggleable__label {background-color: #d4ebff;}#sk-container-id-7 div.sk-serial::before {content: \"\";position: absolute;border-left: 1px solid gray;box-sizing: border-box;top: 0;bottom: 0;left: 50%;z-index: 0;}#sk-container-id-7 div.sk-serial {display: flex;flex-direction: column;align-items: center;background-color: white;padding-right: 0.2em;padding-left: 0.2em;position: relative;}#sk-container-id-7 div.sk-item {position: relative;z-index: 1;}#sk-container-id-7 div.sk-parallel {display: flex;align-items: stretch;justify-content: center;background-color: white;position: relative;}#sk-container-id-7 div.sk-item::before, #sk-container-id-7 div.sk-parallel-item::before {content: \"\";position: absolute;border-left: 1px solid gray;box-sizing: border-box;top: 0;bottom: 0;left: 50%;z-index: -1;}#sk-container-id-7 div.sk-parallel-item {display: flex;flex-direction: column;z-index: 1;position: relative;background-color: white;}#sk-container-id-7 div.sk-parallel-item:first-child::after {align-self: flex-end;width: 50%;}#sk-container-id-7 div.sk-parallel-item:last-child::after {align-self: flex-start;width: 50%;}#sk-container-id-7 div.sk-parallel-item:only-child::after {width: 0;}#sk-container-id-7 div.sk-dashed-wrapped {border: 1px dashed gray;margin: 0 0.4em 0.5em 0.4em;box-sizing: border-box;padding-bottom: 0.4em;background-color: white;}#sk-container-id-7 div.sk-label label {font-family: monospace;font-weight: bold;display: inline-block;line-height: 1.2em;}#sk-container-id-7 div.sk-label-container {text-align: center;}#sk-container-id-7 div.sk-container {/* jupyter's `normalize.less` sets `[hidden] { display: none; }` but bootstrap.min.css set `[hidden] { display: none !important; }` so we also need the `!important` here to be able to override the default hidden behavior on the sphinx rendered scikit-learn.org. See: https://github.com/scikit-learn/scikit-learn/issues/21755 */display: inline-block !important;position: relative;}#sk-container-id-7 div.sk-text-repr-fallback {display: none;}</style><div id=\"sk-container-id-7\" class=\"sk-top-container\"><div class=\"sk-text-repr-fallback\"><pre>LinearRegression()</pre><b>In a Jupyter environment, please rerun this cell to show the HTML representation or trust the notebook. <br />On GitHub, the HTML representation is unable to render, please try loading this page with nbviewer.org.</b></div><div class=\"sk-container\" hidden><div class=\"sk-item\"><div class=\"sk-estimator sk-toggleable\"><input class=\"sk-toggleable__control sk-hidden--visually\" id=\"sk-estimator-id-7\" type=\"checkbox\" checked><label for=\"sk-estimator-id-7\" class=\"sk-toggleable__label sk-toggleable__label-arrow\">LinearRegression</label><div class=\"sk-toggleable__content\"><pre>LinearRegression()</pre></div></div></div></div></div>"
      ],
      "text/plain": [
       "LinearRegression()"
      ]
     },
     "execution_count": 77,
     "metadata": {},
     "output_type": "execute_result"
    }
   ],
   "source": [
    "lr = LinearRegression(fit_intercept=True)\n",
    "lr.fit(x,y)"
   ]
  },
  {
   "cell_type": "code",
   "execution_count": 78,
   "id": "1f74fec8",
   "metadata": {},
   "outputs": [
    {
     "name": "stdout",
     "output_type": "stream",
     "text": [
      "절편 : -115914540437.90697\n",
      "회귀 계수 : [61609396.39964543]\n"
     ]
    }
   ],
   "source": [
    "print('절편 :', lr.intercept_)\n",
    "print('회귀 계수 :', lr.coef_)\n"
   ]
  },
  {
   "cell_type": "code",
   "execution_count": 79,
   "id": "d8eedfb1",
   "metadata": {},
   "outputs": [
    {
     "name": "stdout",
     "output_type": "stream",
     "text": [
      "[[2020]\n",
      " [2021]\n",
      " [2022]\n",
      " [2023]\n",
      " [2024]\n",
      " [2025]\n",
      " [2026]\n",
      " [2027]\n",
      " [2028]\n",
      " [2029]\n",
      " [2030]]\n",
      "[8536440289.376801, 8598049685.776459, 8659659082.176102, 8721268478.575745, 8782877874.975388, 8844487271.37503, 8906096667.774673, 8967706064.174332, 9029315460.573975, 9090924856.973618, 9152534253.37326]\n"
     ]
    }
   ],
   "source": [
    "import numpy as np\n",
    "\n",
    "# 전년도 까지 데이터 확보\n",
    "# X_test = np.array([[2020], [2021]])\n",
    "\n",
    "# 2050년 까지 데이터 확보\n",
    "X_test = np.array([[i] for i in range(2020, 2031)])\n",
    "result = list(lr.predict(X_test))\n",
    "print(X_test)\n",
    "print(result)"
   ]
  },
  {
   "cell_type": "code",
   "execution_count": 80,
   "id": "60fa8d08",
   "metadata": {},
   "outputs": [
    {
     "name": "stdout",
     "output_type": "stream",
     "text": [
      "      Year           CH4\n",
      "0   1990.0  6.909030e+09\n",
      "1   1991.0  6.918610e+09\n",
      "2   1992.0  6.895230e+09\n",
      "3   1993.0  6.914180e+09\n",
      "4   1994.0  6.958840e+09\n",
      "5   1995.0  7.032090e+09\n",
      "6   1996.0  7.037110e+09\n",
      "7   1997.0  7.268600e+09\n",
      "8   1998.0  7.159870e+09\n",
      "9   1999.0  7.112040e+09\n",
      "10  2000.0  7.124000e+09\n",
      "11  2001.0  7.062720e+09\n",
      "12  2002.0  7.199600e+09\n",
      "13  2003.0  7.262510e+09\n",
      "14  2004.0  7.505180e+09\n",
      "15  2005.0  7.556280e+09\n",
      "16  2006.0  7.749950e+09\n",
      "17  2007.0  7.729960e+09\n",
      "18  2008.0  7.782220e+09\n",
      "19  2009.0  7.812910e+09\n",
      "20  2010.0  7.909880e+09\n",
      "21  2011.0  8.050430e+09\n",
      "22  2012.0  8.141110e+09\n",
      "23  2013.0  8.109300e+09\n",
      "24  2014.0  8.266810e+09\n",
      "25  2015.0  8.315910e+09\n",
      "26  2016.0  8.227180e+09\n",
      "27  2017.0  8.333400e+09\n",
      "28  2018.0  8.489970e+09\n",
      "29  2019.0  8.609920e+09\n",
      "30  2020.0  8.536440e+09\n",
      "31  2021.0  8.598050e+09\n",
      "32  2022.0  8.659659e+09\n",
      "33  2023.0  8.721268e+09\n",
      "34  2024.0  8.782878e+09\n",
      "35  2025.0  8.844487e+09\n",
      "36  2026.0  8.906097e+09\n",
      "37  2027.0  8.967706e+09\n",
      "38  2028.0  9.029315e+09\n",
      "39  2029.0  9.090925e+09\n",
      "40  2030.0  9.152534e+09\n"
     ]
    }
   ],
   "source": [
    "for i in range(2031-2020):\n",
    "    CH4.loc[len(CH4)] = [X_test[i][0], result[i]]\n",
    "print(CH4)"
   ]
  },
  {
   "cell_type": "code",
   "execution_count": null,
   "id": "fb9e77be",
   "metadata": {},
   "outputs": [],
   "source": []
  },
  {
   "cell_type": "code",
   "execution_count": 81,
   "id": "f7ede46f",
   "metadata": {},
   "outputs": [],
   "source": [
    "CH4.to_csv('CH4_2030.csv', index=False)"
   ]
  },
  {
   "cell_type": "code",
   "execution_count": null,
   "id": "ff7b76b7",
   "metadata": {},
   "outputs": [],
   "source": []
  }
 ],
 "metadata": {
  "kernelspec": {
   "display_name": "Python 3 (ipykernel)",
   "language": "python",
   "name": "python3"
  },
  "language_info": {
   "codemirror_mode": {
    "name": "ipython",
    "version": 3
   },
   "file_extension": ".py",
   "mimetype": "text/x-python",
   "name": "python",
   "nbconvert_exporter": "python",
   "pygments_lexer": "ipython3",
   "version": "3.9.13"
  }
 },
 "nbformat": 4,
 "nbformat_minor": 5
}
